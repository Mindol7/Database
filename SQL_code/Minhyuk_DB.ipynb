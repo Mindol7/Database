{
  "nbformat": 4,
  "nbformat_minor": 0,
  "metadata": {
    "colab": {
      "provenance": []
    },
    "kernelspec": {
      "name": "python3",
      "display_name": "Python 3"
    },
    "language_info": {
      "name": "python"
    }
  },
  "cells": [
    {
      "cell_type": "code",
      "execution_count": null,
      "metadata": {
        "colab": {
          "base_uri": "https://localhost:8080/",
          "height": 109
        },
        "id": "NV3MCm2VYtY5",
        "outputId": "cf3ddf73-72f6-4da7-a78c-909abba2b731"
      },
      "outputs": [
        {
          "output_type": "execute_result",
          "data": {
            "text/plain": [
              "'\\nPRIMARY KEY\\n- NULL이면 안됨\\n- 복합키로 여러 column이 합쳐져서 구성됨\\n\\nUNIQUE\\n- 지정한 컬럼에 중복 값 저장 안되도록함\\n- NULL은 여러개 가능 및 허\\n\\nFOREIGN KEY\\n- ON DELETE option이 있음 (행이 사라질때 작동됨)\\n- 외래키로 참조할 때 관련 행이 사라지면 동작함 (전체 행이 아니라 하나의 행이라도 삭제되면 동작)\\n1. ON DELETE NO ACTION: 삭제 방지\\n2. ON DELETE CASCADE: 자동적으로 삭제\\n3. ON DELETE SET NULL: NULL로 설정\\n4. ON DELETE SET DEFAULT: DEFAULT 값으로 설정\\n\\nCHECK\\n- INSERT, UPDATE 작동 시 동작\\n- CONSTRAINT와 함께 사용되면 제약 조건에 이름을 주어 변수처럼 사용가능\\n\\n'"
            ],
            "application/vnd.google.colaboratory.intrinsic+json": {
              "type": "string"
            }
          },
          "metadata": {},
          "execution_count": 1
        }
      ],
      "source": [
        "# CREATE TABLE Statements\n",
        "\"\"\"\n",
        "CREATE TABLE table_name (\n",
        "  1. column_name data_type [NOT NULL] [DEFAULT default_value],\n",
        "  2. [PRIMARY KEY (column_list)],\n",
        "  3. [UNIQUE (column_list)],\n",
        "  4. [FOREIGN KEY (column_list) REFERENCES other_table(other_column_list)]\n",
        "   [ON DELETE option [ON UPDATE option]],\n",
        "  5. [CONSTRAINT constraint_name CHECK (condition)]\n",
        ");\n",
        "\"\"\"\n",
        "\n",
        "\"\"\"\n",
        "1. []는 option을 의미함\n",
        "2. ;로 마침\n",
        "3. 대소문자 구분안함. 단 키워든느 대문자로 하는게 convention\n",
        "4. NOT NULL는 값을 넣도록 보장해줌\n",
        "5. DEFAULT는 value가 없으면 자동으로 값을 넣어줌\n",
        "\"\"\"\n",
        "\n",
        "\"\"\"\n",
        "각 column은 data type, NULL 여부, default에 대한 정보를 가짐\n",
        "\"\"\"\n",
        "\n",
        "\"\"\"\n",
        "CHAR: 고정된 길이\n",
        "VARCHAR: 가변 길이\n",
        "\n",
        "NUMERIC(p,s), DECIMAL(p,s): p는 총 숫자의 길이, s는 소수점 이하 갯수\n",
        "REAL: 4Bytes로 부동소수점 저장함\n",
        "\"\"\"\n",
        "\n",
        "\"\"\"\n",
        "PRIMARY KEY\n",
        "- NULL이면 안됨\n",
        "- 복합키로 여러 column이 합쳐져서 구성됨\n",
        "\n",
        "UNIQUE\n",
        "- 지정한 컬럼에 중복 값 저장 안되도록함\n",
        "- NULL은 여러개 가능 및 허\n",
        "\n",
        "FOREIGN KEY\n",
        "- ON DELETE option이 있음 (행이 사라질때 작동됨)\n",
        "- 외래키로 참조할 때 관련 행이 사라지면 동작함 (전체 행이 아니라 하나의 행이라도 삭제되면 동작)\n",
        "1. ON DELETE NO ACTION: 삭제 방지\n",
        "2. ON DELETE CASCADE: 자동적으로 삭제\n",
        "3. ON DELETE SET NULL: NULL로 설정\n",
        "4. ON DELETE SET DEFAULT: DEFAULT 값으로 설정\n",
        "\n",
        "CHECK\n",
        "- INSERT, UPDATE 작동 시 동작\n",
        "- CONSTRAINT와 함께 사용되면 제약 조건에 이름을 주어 변수처럼 사용가능\n",
        "\n",
        "\"\"\""
      ]
    },
    {
      "cell_type": "code",
      "source": [
        "# STEP 1: Install MySQL Server\n",
        "!apt-get update\n",
        "!apt-get install -y mysql-server"
      ],
      "metadata": {
        "colab": {
          "base_uri": "https://localhost:8080/"
        },
        "id": "mKK5TpqjihSl",
        "outputId": "eda61565-c3ce-4a63-d44b-666bfe92ea11"
      },
      "execution_count": null,
      "outputs": [
        {
          "output_type": "stream",
          "name": "stdout",
          "text": [
            "\r0% [Working]\r            \rHit:1 https://cloud.r-project.org/bin/linux/ubuntu jammy-cran40/ InRelease\n",
            "Hit:2 https://developer.download.nvidia.com/compute/cuda/repos/ubuntu2204/x86_64  InRelease\n",
            "Get:3 http://security.ubuntu.com/ubuntu jammy-security InRelease [129 kB]\n",
            "Get:4 https://r2u.stat.illinois.edu/ubuntu jammy InRelease [6,555 B]\n",
            "Hit:5 https://ppa.launchpadcontent.net/deadsnakes/ppa/ubuntu jammy InRelease\n",
            "Get:6 https://r2u.stat.illinois.edu/ubuntu jammy/main amd64 Packages [2,742 kB]\n",
            "Hit:7 https://ppa.launchpadcontent.net/graphics-drivers/ppa/ubuntu jammy InRelease\n",
            "Hit:8 https://ppa.launchpadcontent.net/ubuntugis/ppa/ubuntu jammy InRelease\n",
            "Get:9 https://r2u.stat.illinois.edu/ubuntu jammy/main all Packages [9,019 kB]\n",
            "Hit:10 http://archive.ubuntu.com/ubuntu jammy InRelease\n",
            "Get:11 http://archive.ubuntu.com/ubuntu jammy-updates InRelease [128 kB]\n",
            "Get:12 http://archive.ubuntu.com/ubuntu jammy-backports InRelease [127 kB]\n",
            "Fetched 12.2 MB in 6s (1,904 kB/s)\n",
            "Reading package lists... Done\n",
            "W: Skipping acquire of configured file 'main/source/Sources' as repository 'https://r2u.stat.illinois.edu/ubuntu jammy InRelease' does not seem to provide it (sources.list entry misspelt?)\n",
            "Reading package lists... Done\n",
            "Building dependency tree... Done\n",
            "Reading state information... Done\n",
            "mysql-server is already the newest version (8.0.42-0ubuntu0.22.04.1).\n",
            "0 upgraded, 0 newly installed, 0 to remove and 39 not upgraded.\n"
          ]
        }
      ]
    },
    {
      "cell_type": "code",
      "source": [
        "# STEP 2: Start MySQL Server\n",
        "!service mysql start"
      ],
      "metadata": {
        "colab": {
          "base_uri": "https://localhost:8080/"
        },
        "id": "lfbHye18ip1A",
        "outputId": "f315c722-b481-4af1-c403-0122e372b9a5"
      },
      "execution_count": null,
      "outputs": [
        {
          "output_type": "stream",
          "name": "stdout",
          "text": [
            " * Starting MySQL database server mysqld\n",
            "   ...done.\n"
          ]
        }
      ]
    },
    {
      "cell_type": "code",
      "source": [
        "# STEP 3: Set the Root Password\n",
        "# 비밀번호 없이 ROOT 접근함\n",
        "# FLUSH PRIVILEGES -> 변경 사항 즉시 적용\n",
        "!sudo mysql -e \"ALTER USER 'root'@'localhost' IDENTIFIED WITH mysql_native_password BY ''; FLUSH PRIVILEGES;\""
      ],
      "metadata": {
        "id": "Bnyq5QQuiwpd"
      },
      "execution_count": null,
      "outputs": []
    },
    {
      "cell_type": "code",
      "source": [
        "# STEP 4: Install the Python MySQL Connector\n",
        "!pip install mysql-connector-python"
      ],
      "metadata": {
        "colab": {
          "base_uri": "https://localhost:8080/"
        },
        "id": "NBYmG9DhjiYd",
        "outputId": "84303184-bac3-4407-8d6e-41d8577bd2bc"
      },
      "execution_count": null,
      "outputs": [
        {
          "output_type": "stream",
          "name": "stdout",
          "text": [
            "Requirement already satisfied: mysql-connector-python in /usr/local/lib/python3.11/dist-packages (9.3.0)\n"
          ]
        }
      ]
    },
    {
      "cell_type": "code",
      "source": [
        "# STEP 5: Connect and Use MySQL in Python\n",
        "import mysql.connector\n",
        "\n",
        "# Connect to MySQL server\n",
        "conn = mysql.connector.connect(\n",
        "    host = \"localhost\",\n",
        "    user = \"root\",\n",
        "    password = \"\"\n",
        ")\n",
        "\n",
        "cursor = conn.cursor()\n",
        "\n",
        "# Create a database\n",
        "cursor.execute(\"CREATE DATABASE IF NOT EXISTS testdb\")\n",
        "cursor.execute(\"USE testdb\") # testdb를 사용할거임"
      ],
      "metadata": {
        "id": "njhTqtChjn4b"
      },
      "execution_count": null,
      "outputs": []
    },
    {
      "cell_type": "code",
      "source": [
        "# Example-1: Writing a CREATE TABLE Statement for a Customer Table\n",
        "# CustomerID, CustomerName, Age, Grade, Job, Points\n",
        "# CustomerID는 Primary Key\n",
        "# CustomerName과 Grade는 null이면 안됨\n",
        "# Points는 DEFAULT로 0을 가짐\n",
        "\n",
        "cursor.execute(\"DROP TABLE IF EXISTS Customer\")\n",
        "\n",
        "create_table_query = \"\"\"\n",
        " CREATE TABLE Customer(\n",
        "  CustomerID VARCHAR(20) NOT NULL,\n",
        "  CustomerName VARCHAR(20) NOT NULL,\n",
        "  Age INT,\n",
        "  Grade VARCHAR(10) NOT NULL,\n",
        "  Job VARCHAR(20),\n",
        "  Points INT DEFAULT 0,\n",
        "  PRIMARY KEY (CustomerID)\n",
        " );\n",
        "\"\"\"\n",
        "\n",
        "cursor.execute(create_table_query)\n",
        "print(\"Customer table created.\")\n",
        "\n",
        "cursor.execute(\"DESCRIBE Customer\")\n",
        "columns = cursor.fetchall()\n",
        "\n",
        "for column in columns:\n",
        "  print(column)\n",
        "\n",
        "cursor.execute(\"SHOW TABLES\")\n",
        "tables = cursor.fetchall()\n",
        "\n",
        "print(\"List of Tables in the Database\")\n",
        "for table in tables:\n",
        "  print(table[0])"
      ],
      "metadata": {
        "colab": {
          "base_uri": "https://localhost:8080/"
        },
        "id": "em5ZfBe_kGGY",
        "outputId": "8799e102-93cf-44f1-e83b-9ffe806c479d"
      },
      "execution_count": null,
      "outputs": [
        {
          "output_type": "stream",
          "name": "stdout",
          "text": [
            "Customer table created.\n",
            "('CustomerID', 'varchar(20)', 'NO', 'PRI', None, '')\n",
            "('CustomerName', 'varchar(20)', 'NO', '', None, '')\n",
            "('Age', 'int', 'YES', '', None, '')\n",
            "('Grade', 'varchar(10)', 'NO', '', None, '')\n",
            "('Job', 'varchar(20)', 'YES', '', None, '')\n",
            "('Points', 'int', 'YES', '', '0', '')\n",
            "List of Tables in the Database\n",
            "Customer\n",
            "Old_Customer\n",
            "Product\n"
          ]
        }
      ]
    },
    {
      "cell_type": "code",
      "source": [
        "# Example-2: Writing a CREATE TABLE Statement for a Product Table\n",
        "# ProductCode, ProductName, Stock, Price, and Manufacturer\n",
        "# ProductCode는 Primary Key\n",
        "# CHECK: Stock는 0과 10000사이\n",
        "\n",
        "cursor.execute(\"DROP TABLE IF EXISTS Product\")\n",
        "\n",
        "create_table_query = \"\"\"\n",
        " CREATE TABLE Product(\n",
        "  ProductCode CHAR(3) NOT NULL,\n",
        "  ProductName VARCHAR(20),\n",
        "  Stock INT,\n",
        "  Price INT,\n",
        "  Manufacturer VARCHAR(20),\n",
        "  PRIMARY KEY (ProductCode),\n",
        "  CONSTRAINT my_chk CHECK (Stock >= 0 AND Stock <= 10000)\n",
        " );\n",
        "\"\"\"\n",
        "\n",
        "cursor.execute(create_table_query)\n",
        "\n",
        "cursor.execute(\"SHOW TABLES\")\n",
        "tables = cursor.fetchall()\n",
        "\n",
        "for table in tables:\n",
        "  print(table)\n",
        "\n",
        "cursor.execute(\"DESCRIBE Product\")\n",
        "rows = cursor.fetchall()\n",
        "\n",
        "for row in rows:\n",
        "  print(row)"
      ],
      "metadata": {
        "colab": {
          "base_uri": "https://localhost:8080/"
        },
        "id": "bkqkMbXplBmA",
        "outputId": "acfef8c3-a5c9-4ebc-ab5c-446dab5b311c"
      },
      "execution_count": null,
      "outputs": [
        {
          "output_type": "stream",
          "name": "stdout",
          "text": [
            "('Customer',)\n",
            "('Old_Customer',)\n",
            "('Product',)\n",
            "('ProductCode', 'char(3)', 'NO', 'PRI', None, '')\n",
            "('ProductName', 'varchar(20)', 'YES', '', None, '')\n",
            "('Stock', 'int', 'YES', '', None, '')\n",
            "('Price', 'int', 'YES', '', None, '')\n",
            "('Manufacturer', 'varchar(20)', 'YES', '', None, '')\n"
          ]
        }
      ]
    },
    {
      "cell_type": "code",
      "source": [
        "# ALTER TABLE STATEMENT\n",
        "# 존재하는 테이블 구조를 수정\n",
        "# 1. Add a column: ALTER TABLE Customer ADD Email VARCHAR(50);\n",
        "# 2. Modify a column: ALTER TABLE Customer MODIFY Age INT NOT NULL;\n",
        "# 3. Rename a column: ALTER TABLE Customer CHANGE OldName NewName VARCHAR(30);\n",
        "# 4. Delete a column: ALTER TABLE Customer DROP COLUMN Job;\n",
        "\n",
        "\"\"\"\n",
        "ALTER TABLE table_name\n",
        "ADD column_name data_type [NOT NULL] [DEFAULT default_value];\n",
        "\"\"\"\n",
        "\n",
        "\"\"\"\n",
        "ALTER TABLE table_name\n",
        "DROP COLUMN column_name;\n",
        "\"\"\"\n",
        "\n",
        "\"\"\"\n",
        "ALTER TABLE table_name\n",
        "ADD CONSTRAINT constraint_name constraint_definition\n",
        "\"\"\"\n",
        "\n",
        "# Example-3: Adding a New Column\n",
        "# JoinDate column을 추가\n",
        "\n",
        "alter_table_query = \"\"\"\n",
        " ALTER TABLE Customer\n",
        " ADD COLUMN JoinDate VARCHAR(20);\n",
        "\"\"\"\n",
        "\n",
        "cursor.execute(alter_table_query)\n",
        "\n",
        "cursor.execute(\"DESCRIBE Customer\")\n",
        "for row in cursor.fetchall():\n",
        "  print(row)"
      ],
      "metadata": {
        "colab": {
          "base_uri": "https://localhost:8080/"
        },
        "id": "zPCGqIQkoSEh",
        "outputId": "42d34dff-08b3-4041-9726-c47de2c7eea7"
      },
      "execution_count": null,
      "outputs": [
        {
          "output_type": "stream",
          "name": "stdout",
          "text": [
            "('CustomerID', 'varchar(20)', 'NO', 'PRI', None, '')\n",
            "('CustomerName', 'varchar(20)', 'NO', '', None, '')\n",
            "('Age', 'int', 'YES', '', None, '')\n",
            "('Grade', 'varchar(10)', 'NO', '', None, '')\n",
            "('Job', 'varchar(20)', 'YES', '', None, '')\n",
            "('Points', 'int', 'YES', '', '0', '')\n",
            "('JoinDate', 'varchar(20)', 'YES', '', None, '')\n"
          ]
        }
      ]
    },
    {
      "cell_type": "code",
      "source": [
        "# Example-4: Dropping an Existing Column\n",
        "\n",
        "alter_table_query = \"\"\"\n",
        " ALTER TABLE Customer\n",
        " DROP COLUMN JoinDate;\n",
        "\"\"\"\n",
        "\n",
        "cursor.execute(alter_table_query)\n",
        "\n",
        "cursor.execute(\"DESCRIBE Customer\")\n",
        "for row in cursor.fetchall():\n",
        "  print(row)"
      ],
      "metadata": {
        "colab": {
          "base_uri": "https://localhost:8080/"
        },
        "id": "sL2l_lpGpURR",
        "outputId": "f14f1ed7-f850-4e67-8679-fa8222a36c38"
      },
      "execution_count": null,
      "outputs": [
        {
          "output_type": "stream",
          "name": "stdout",
          "text": [
            "('CustomerID', 'varchar(20)', 'NO', 'PRI', None, '')\n",
            "('CustomerName', 'varchar(20)', 'NO', '', None, '')\n",
            "('Age', 'int', 'YES', '', None, '')\n",
            "('Grade', 'varchar(10)', 'NO', '', None, '')\n",
            "('Job', 'varchar(20)', 'YES', '', None, '')\n",
            "('Points', 'int', 'YES', '', '0', '')\n"
          ]
        }
      ]
    },
    {
      "cell_type": "code",
      "source": [
        "# Example-5: Adding a New Constraint\n",
        "# Example-6: Dropping an Existing Constraint\n",
        "\n",
        "alter_table_query = \"\"\"\n",
        " ALTER TABLE Customer\n",
        " ADD CONSTRAINT CHK_AGE CHECK (AGE >= 20);\n",
        "\"\"\"\n",
        "\n",
        "# alter_table_query = \"\"\"\n",
        "#  ALTER TABLE Customer\n",
        "#  DROP CONSTRAINT CHK_AGE;\n",
        "# \"\"\"\n",
        "\n",
        "cursor.execute(alter_table_query)\n",
        "\n",
        "cursor.execute(\"SHOW CREATE TABLE Customer\")\n",
        "\n",
        "for row in cursor.fetchall():\n",
        "  print(row)"
      ],
      "metadata": {
        "colab": {
          "base_uri": "https://localhost:8080/"
        },
        "id": "fx0GrgvnpvMA",
        "outputId": "cf476114-1364-407a-f06f-d25d59865772"
      },
      "execution_count": null,
      "outputs": [
        {
          "output_type": "stream",
          "name": "stdout",
          "text": [
            "('Customer', \"CREATE TABLE `Customer` (\\n  `CustomerID` varchar(20) NOT NULL,\\n  `CustomerName` varchar(20) NOT NULL,\\n  `Age` int DEFAULT NULL,\\n  `Grade` varchar(10) NOT NULL,\\n  `Job` varchar(20) DEFAULT NULL,\\n  `Points` int DEFAULT '0',\\n  PRIMARY KEY (`CustomerID`),\\n  CONSTRAINT `CHK_AGE` CHECK ((`AGE` >= 20))\\n) ENGINE=InnoDB DEFAULT CHARSET=utf8mb4 COLLATE=utf8mb4_0900_ai_ci\")\n"
          ]
        }
      ]
    },
    {
      "cell_type": "code",
      "source": [
        "# Inserting Data: INSERT Statement\n",
        "# INSERT: 행을 추가하는 것\n",
        "# INTO: columns 선정\n",
        "# VALUES: 값 설정\n",
        "# 순서대로 들어감\n",
        "\n",
        "\"\"\"\n",
        "INSERT\n",
        "INTO table_name (column_list)\n",
        "VALUES (value_list)\n",
        "\"\"\"\n",
        "\n",
        "insert_query = \"\"\"\n",
        " INSERT\n",
        " INTO Customer (CustomerID, CustomerName, Age, Grade, Job, Points)\n",
        " VALUES ('C001', 'Alice', 30, 'Gold', 'Engineer', 1000);\n",
        "\"\"\"\n",
        "cursor.execute(insert_query)\n"
      ],
      "metadata": {
        "id": "O3xwNkQiqsr4"
      },
      "execution_count": null,
      "outputs": []
    },
    {
      "cell_type": "code",
      "source": [
        "# Example-7: Direct Row Insertion + Retrieval Check\n",
        "# 1. C002, Bob, 28, Silver, Designer\n",
        "\n",
        "insert_query = \"\"\"\n",
        " INSERT\n",
        " INTO Customer (CustomerID, CustomerName, Age, Grade, Job)\n",
        " VALUES ('C002', 'Bob', 28, 'Silver', 'Designer')\n",
        "\"\"\"\n",
        "cursor.execute(insert_query)\n",
        "cursor.execute(\"SELECT * FROM Customer;\")\n",
        "\n",
        "for row in cursor.fetchall():\n",
        "  print(row)"
      ],
      "metadata": {
        "colab": {
          "base_uri": "https://localhost:8080/"
        },
        "id": "Bb9JiuRWvU4U",
        "outputId": "0ae0bf48-2ec8-4331-d1a1-5902cd967100"
      },
      "execution_count": null,
      "outputs": [
        {
          "output_type": "stream",
          "name": "stdout",
          "text": [
            "('C001', 'Alice', 30, 'Gold', 'Engineer', 1000)\n",
            "('C002', 'Bob', 28, 'Silver', 'Designer', 0)\n"
          ]
        }
      ]
    },
    {
      "cell_type": "code",
      "source": [
        "# Example-8: Direct Row Insertion + Retrieval Check\n",
        "# single operation using executemany()\n",
        "# executemany(Query, Data)\n",
        "# 여러개 Data 리스트를 한번에 실행할 수 있음\n",
        "\n",
        "first_insert_query = \"\"\"\n",
        " INSERT\n",
        " INTO Customer (CustomerID, CustomerName, Age, Grade, Job, Points)\n",
        " VALUES (%s,%s, %s, %s, %s, %s);\n",
        "\"\"\"\n",
        "\n",
        "values = [('C003', 'Park', 21, 'VIP', 'Developer', 2000),\n",
        "          ('C004', 'Kim', 25, 'VIP', 'Designer', 5000)]\n",
        "\n",
        "cursor.executemany(first_insert_query, values)\n",
        "\n",
        "cursor.execute(\"SELECT * FROM Customer;\")\n",
        "\n",
        "for row in cursor.fetchall():\n",
        "  print(row)"
      ],
      "metadata": {
        "colab": {
          "base_uri": "https://localhost:8080/"
        },
        "id": "ZjrW8RuOu59k",
        "outputId": "738b2140-5191-4b7e-fc2f-f605ae1b6bde"
      },
      "execution_count": null,
      "outputs": [
        {
          "output_type": "stream",
          "name": "stdout",
          "text": [
            "('C001', 'Alice', 30, 'Gold', 'Engineer', 1000)\n",
            "('C002', 'Bob', 28, 'Silver', 'Designer', 0)\n",
            "('C003', 'Park', 21, 'VIP', 'Developer', 2000)\n",
            "('C004', 'Kim', 25, 'VIP', 'Designer', 5000)\n"
          ]
        }
      ]
    },
    {
      "cell_type": "code",
      "source": [
        "# Insertion에서의 Subquery: SELECT를 이용해서 다른 테이블에서 값을 가져와서 Insert함\n",
        "\n",
        "\"\"\"\n",
        "INSERT\n",
        "INTO table_name (column_list)\n",
        "SELECT ...\n",
        "FROM another_table\n",
        "WHERE condition;\n",
        "\"\"\"\n",
        "\n",
        "cursor.execute(\"DROP TABLE IF EXISTS Old_Custmer\")\n",
        "\n",
        "create_query = \"\"\"\n",
        " CREATE TABLE Old_Customer(\n",
        "  CustomerID VARCHAR(20) NOT NULL,\n",
        "  CustomerName VARCHAR(20) NOT NULL,\n",
        "  Age INT,\n",
        "  Grade VARCHAR(10) NOT NULL,\n",
        "  Job VARCHAR(20),\n",
        "  Points INT DEFAULT 0,\n",
        "  PRIMARY KEY (CustomerID)\n",
        " );\n",
        "\"\"\"\n",
        "\n",
        "# cursor.execute(create_query)\n",
        "\n",
        "insert_query = \"\"\"\n",
        " INSERT\n",
        " INTO Old_Customer (CustomerID, CustomerName, Age, Grade, Job, Points)\n",
        " VALUES ('C005', 'Lee', 45, 'Gold', 'Engineer', 3000);\n",
        "\"\"\"\n",
        "\n",
        "cursor.execute(insert_query)\n",
        "\n",
        "insert_query = \"\"\"\n",
        " INSERT\n",
        " INTO Customer (CustomerID, CustomerName, Age, Grade, Job, Points)\n",
        " SELECT CustomerID, CustomerName, Age, Grade, Job, Points FROM Old_Customer WHERE Age > 40;\n",
        "\"\"\"\n",
        "\n",
        "cursor.execute(insert_query)\n",
        "\n",
        "cursor.execute(\"SELECT * FROM Customer;\")\n",
        "for row in cursor.fetchall():\n",
        "  print(row)"
      ],
      "metadata": {
        "colab": {
          "base_uri": "https://localhost:8080/",
          "height": 391
        },
        "id": "7d42_nA7xTUJ",
        "outputId": "fd7d21f0-33d1-40df-ca0c-62abc96d4b8a"
      },
      "execution_count": null,
      "outputs": [
        {
          "output_type": "error",
          "ename": "IntegrityError",
          "evalue": "1062 (23000): Duplicate entry 'C005' for key 'Old_Customer.PRIMARY'",
          "traceback": [
            "\u001b[0;31m---------------------------------------------------------------------------\u001b[0m",
            "\u001b[0;31mIntegrityError\u001b[0m                            Traceback (most recent call last)",
            "\u001b[0;32m<ipython-input-15-1507324796>\u001b[0m in \u001b[0;36m<cell line: 0>\u001b[0;34m()\u001b[0m\n\u001b[1;32m     31\u001b[0m \"\"\"\n\u001b[1;32m     32\u001b[0m \u001b[0;34m\u001b[0m\u001b[0m\n\u001b[0;32m---> 33\u001b[0;31m \u001b[0mcursor\u001b[0m\u001b[0;34m.\u001b[0m\u001b[0mexecute\u001b[0m\u001b[0;34m(\u001b[0m\u001b[0minsert_query\u001b[0m\u001b[0;34m)\u001b[0m\u001b[0;34m\u001b[0m\u001b[0;34m\u001b[0m\u001b[0m\n\u001b[0m\u001b[1;32m     34\u001b[0m \u001b[0;34m\u001b[0m\u001b[0m\n\u001b[1;32m     35\u001b[0m insert_query = \"\"\"\n",
            "\u001b[0;32m/usr/local/lib/python3.11/dist-packages/mysql/connector/cursor.py\u001b[0m in \u001b[0;36mexecute\u001b[0;34m(self, operation, params, map_results)\u001b[0m\n\u001b[1;32m    416\u001b[0m \u001b[0;34m\u001b[0m\u001b[0m\n\u001b[1;32m    417\u001b[0m         self._handle_result(\n\u001b[0;32m--> 418\u001b[0;31m             self._connection.cmd_query(\n\u001b[0m\u001b[1;32m    419\u001b[0m                 \u001b[0mself\u001b[0m\u001b[0;34m.\u001b[0m\u001b[0m_stmt_partition\u001b[0m\u001b[0;34m[\u001b[0m\u001b[0;34m\"mappable_stmt\"\u001b[0m\u001b[0;34m]\u001b[0m\u001b[0;34m,\u001b[0m\u001b[0;34m\u001b[0m\u001b[0;34m\u001b[0m\u001b[0m\n\u001b[1;32m    420\u001b[0m                 \u001b[0mread_timeout\u001b[0m\u001b[0;34m=\u001b[0m\u001b[0mself\u001b[0m\u001b[0;34m.\u001b[0m\u001b[0m_read_timeout\u001b[0m\u001b[0;34m,\u001b[0m\u001b[0;34m\u001b[0m\u001b[0;34m\u001b[0m\u001b[0m\n",
            "\u001b[0;32m/usr/local/lib/python3.11/dist-packages/mysql/connector/opentelemetry/context_propagation.py\u001b[0m in \u001b[0;36mwrapper\u001b[0;34m(cnx, *args, **kwargs)\u001b[0m\n\u001b[1;32m     95\u001b[0m         \u001b[0;31m# pylint: disable=possibly-used-before-assignment\u001b[0m\u001b[0;34m\u001b[0m\u001b[0;34m\u001b[0m\u001b[0m\n\u001b[1;32m     96\u001b[0m         \u001b[0;32mif\u001b[0m \u001b[0;32mnot\u001b[0m \u001b[0mOTEL_ENABLED\u001b[0m \u001b[0;32mor\u001b[0m \u001b[0;32mnot\u001b[0m \u001b[0mcnx\u001b[0m\u001b[0;34m.\u001b[0m\u001b[0motel_context_propagation\u001b[0m\u001b[0;34m:\u001b[0m\u001b[0;34m\u001b[0m\u001b[0;34m\u001b[0m\u001b[0m\n\u001b[0;32m---> 97\u001b[0;31m             \u001b[0;32mreturn\u001b[0m \u001b[0mmethod\u001b[0m\u001b[0;34m(\u001b[0m\u001b[0mcnx\u001b[0m\u001b[0;34m,\u001b[0m \u001b[0;34m*\u001b[0m\u001b[0margs\u001b[0m\u001b[0;34m,\u001b[0m \u001b[0;34m**\u001b[0m\u001b[0mkwargs\u001b[0m\u001b[0;34m)\u001b[0m\u001b[0;34m\u001b[0m\u001b[0;34m\u001b[0m\u001b[0m\n\u001b[0m\u001b[1;32m     98\u001b[0m \u001b[0;34m\u001b[0m\u001b[0m\n\u001b[1;32m     99\u001b[0m         \u001b[0mcurrent_span\u001b[0m \u001b[0;34m=\u001b[0m \u001b[0mtrace\u001b[0m\u001b[0;34m.\u001b[0m\u001b[0mget_current_span\u001b[0m\u001b[0;34m(\u001b[0m\u001b[0;34m)\u001b[0m\u001b[0;34m\u001b[0m\u001b[0;34m\u001b[0m\u001b[0m\n",
            "\u001b[0;32m/usr/local/lib/python3.11/dist-packages/mysql/connector/_decorating.py\u001b[0m in \u001b[0;36mhandle_cnx_method\u001b[0;34m(cnx, *args, **kwargs)\u001b[0m\n\u001b[1;32m     87\u001b[0m                 \u001b[0;32mif\u001b[0m \u001b[0misinstance\u001b[0m\u001b[0;34m(\u001b[0m\u001b[0merr\u001b[0m\u001b[0;34m,\u001b[0m \u001b[0mTimeoutError\u001b[0m\u001b[0;34m)\u001b[0m\u001b[0;34m:\u001b[0m\u001b[0;34m\u001b[0m\u001b[0;34m\u001b[0m\u001b[0m\n\u001b[1;32m     88\u001b[0m                     \u001b[0mcnx\u001b[0m\u001b[0;34m.\u001b[0m\u001b[0mclose\u001b[0m\u001b[0;34m(\u001b[0m\u001b[0;34m)\u001b[0m\u001b[0;34m\u001b[0m\u001b[0;34m\u001b[0m\u001b[0m\n\u001b[0;32m---> 89\u001b[0;31m                 \u001b[0;32mraise\u001b[0m \u001b[0merr\u001b[0m\u001b[0;34m\u001b[0m\u001b[0;34m\u001b[0m\u001b[0m\n\u001b[0m\u001b[1;32m     90\u001b[0m \u001b[0;34m\u001b[0m\u001b[0m\n\u001b[1;32m     91\u001b[0m         \u001b[0;32mreturn\u001b[0m \u001b[0mhandle_cnx_method\u001b[0m\u001b[0;34m\u001b[0m\u001b[0;34m\u001b[0m\u001b[0m\n",
            "\u001b[0;32m/usr/local/lib/python3.11/dist-packages/mysql/connector/_decorating.py\u001b[0m in \u001b[0;36mhandle_cnx_method\u001b[0;34m(cnx, *args, **kwargs)\u001b[0m\n\u001b[1;32m     83\u001b[0m         ) -> Any:\n\u001b[1;32m     84\u001b[0m             \u001b[0;32mtry\u001b[0m\u001b[0;34m:\u001b[0m\u001b[0;34m\u001b[0m\u001b[0;34m\u001b[0m\u001b[0m\n\u001b[0;32m---> 85\u001b[0;31m                 \u001b[0;32mreturn\u001b[0m \u001b[0mcnx_method\u001b[0m\u001b[0;34m(\u001b[0m\u001b[0mcnx\u001b[0m\u001b[0;34m,\u001b[0m \u001b[0;34m*\u001b[0m\u001b[0margs\u001b[0m\u001b[0;34m,\u001b[0m \u001b[0;34m**\u001b[0m\u001b[0mkwargs\u001b[0m\u001b[0;34m)\u001b[0m\u001b[0;34m\u001b[0m\u001b[0;34m\u001b[0m\u001b[0m\n\u001b[0m\u001b[1;32m     86\u001b[0m             \u001b[0;32mexcept\u001b[0m \u001b[0mException\u001b[0m \u001b[0;32mas\u001b[0m \u001b[0merr\u001b[0m\u001b[0;34m:\u001b[0m\u001b[0;34m\u001b[0m\u001b[0;34m\u001b[0m\u001b[0m\n\u001b[1;32m     87\u001b[0m                 \u001b[0;32mif\u001b[0m \u001b[0misinstance\u001b[0m\u001b[0;34m(\u001b[0m\u001b[0merr\u001b[0m\u001b[0;34m,\u001b[0m \u001b[0mTimeoutError\u001b[0m\u001b[0;34m)\u001b[0m\u001b[0;34m:\u001b[0m\u001b[0;34m\u001b[0m\u001b[0;34m\u001b[0m\u001b[0m\n",
            "\u001b[0;32m/usr/local/lib/python3.11/dist-packages/mysql/connector/connection.py\u001b[0m in \u001b[0;36mcmd_query\u001b[0;34m(self, query, raw, buffered, raw_as_string, **kwargs)\u001b[0m\n\u001b[1;32m    982\u001b[0m             \u001b[0mwrite_timeout\u001b[0m \u001b[0;34m=\u001b[0m \u001b[0mkwargs\u001b[0m\u001b[0;34m.\u001b[0m\u001b[0mget\u001b[0m\u001b[0;34m(\u001b[0m\u001b[0;34m\"write_timeout\"\u001b[0m\u001b[0;34m,\u001b[0m \u001b[0;32mNone\u001b[0m\u001b[0;34m)\u001b[0m\u001b[0;34m\u001b[0m\u001b[0;34m\u001b[0m\u001b[0m\n\u001b[1;32m    983\u001b[0m \u001b[0;34m\u001b[0m\u001b[0m\n\u001b[0;32m--> 984\u001b[0;31m             result = self._handle_result(\n\u001b[0m\u001b[1;32m    985\u001b[0m                 self._send_cmd(\n\u001b[1;32m    986\u001b[0m                     \u001b[0mServerCmd\u001b[0m\u001b[0;34m.\u001b[0m\u001b[0mQUERY\u001b[0m\u001b[0;34m,\u001b[0m\u001b[0;34m\u001b[0m\u001b[0;34m\u001b[0m\u001b[0m\n",
            "\u001b[0;32m/usr/local/lib/python3.11/dist-packages/mysql/connector/_decorating.py\u001b[0m in \u001b[0;36mhandle_cnx_method\u001b[0;34m(cnx, *args, **kwargs)\u001b[0m\n\u001b[1;32m     87\u001b[0m                 \u001b[0;32mif\u001b[0m \u001b[0misinstance\u001b[0m\u001b[0;34m(\u001b[0m\u001b[0merr\u001b[0m\u001b[0;34m,\u001b[0m \u001b[0mTimeoutError\u001b[0m\u001b[0;34m)\u001b[0m\u001b[0;34m:\u001b[0m\u001b[0;34m\u001b[0m\u001b[0;34m\u001b[0m\u001b[0m\n\u001b[1;32m     88\u001b[0m                     \u001b[0mcnx\u001b[0m\u001b[0;34m.\u001b[0m\u001b[0mclose\u001b[0m\u001b[0;34m(\u001b[0m\u001b[0;34m)\u001b[0m\u001b[0;34m\u001b[0m\u001b[0;34m\u001b[0m\u001b[0m\n\u001b[0;32m---> 89\u001b[0;31m                 \u001b[0;32mraise\u001b[0m \u001b[0merr\u001b[0m\u001b[0;34m\u001b[0m\u001b[0;34m\u001b[0m\u001b[0m\n\u001b[0m\u001b[1;32m     90\u001b[0m \u001b[0;34m\u001b[0m\u001b[0m\n\u001b[1;32m     91\u001b[0m         \u001b[0;32mreturn\u001b[0m \u001b[0mhandle_cnx_method\u001b[0m\u001b[0;34m\u001b[0m\u001b[0;34m\u001b[0m\u001b[0m\n",
            "\u001b[0;32m/usr/local/lib/python3.11/dist-packages/mysql/connector/_decorating.py\u001b[0m in \u001b[0;36mhandle_cnx_method\u001b[0;34m(cnx, *args, **kwargs)\u001b[0m\n\u001b[1;32m     83\u001b[0m         ) -> Any:\n\u001b[1;32m     84\u001b[0m             \u001b[0;32mtry\u001b[0m\u001b[0;34m:\u001b[0m\u001b[0;34m\u001b[0m\u001b[0;34m\u001b[0m\u001b[0m\n\u001b[0;32m---> 85\u001b[0;31m                 \u001b[0;32mreturn\u001b[0m \u001b[0mcnx_method\u001b[0m\u001b[0;34m(\u001b[0m\u001b[0mcnx\u001b[0m\u001b[0;34m,\u001b[0m \u001b[0;34m*\u001b[0m\u001b[0margs\u001b[0m\u001b[0;34m,\u001b[0m \u001b[0;34m**\u001b[0m\u001b[0mkwargs\u001b[0m\u001b[0;34m)\u001b[0m\u001b[0;34m\u001b[0m\u001b[0;34m\u001b[0m\u001b[0m\n\u001b[0m\u001b[1;32m     86\u001b[0m             \u001b[0;32mexcept\u001b[0m \u001b[0mException\u001b[0m \u001b[0;32mas\u001b[0m \u001b[0merr\u001b[0m\u001b[0;34m:\u001b[0m\u001b[0;34m\u001b[0m\u001b[0;34m\u001b[0m\u001b[0m\n\u001b[1;32m     87\u001b[0m                 \u001b[0;32mif\u001b[0m \u001b[0misinstance\u001b[0m\u001b[0;34m(\u001b[0m\u001b[0merr\u001b[0m\u001b[0;34m,\u001b[0m \u001b[0mTimeoutError\u001b[0m\u001b[0;34m)\u001b[0m\u001b[0;34m:\u001b[0m\u001b[0;34m\u001b[0m\u001b[0;34m\u001b[0m\u001b[0m\n",
            "\u001b[0;32m/usr/local/lib/python3.11/dist-packages/mysql/connector/connection.py\u001b[0m in \u001b[0;36m_handle_result\u001b[0;34m(self, packet, read_timeout, write_timeout)\u001b[0m\n\u001b[1;32m    743\u001b[0m             \u001b[0;32mreturn\u001b[0m \u001b[0mself\u001b[0m\u001b[0;34m.\u001b[0m\u001b[0m_handle_eof\u001b[0m\u001b[0;34m(\u001b[0m\u001b[0mpacket\u001b[0m\u001b[0;34m)\u001b[0m\u001b[0;34m\u001b[0m\u001b[0;34m\u001b[0m\u001b[0m\n\u001b[1;32m    744\u001b[0m         \u001b[0;32mif\u001b[0m \u001b[0mpacket\u001b[0m\u001b[0;34m[\u001b[0m\u001b[0;36m4\u001b[0m\u001b[0;34m]\u001b[0m \u001b[0;34m==\u001b[0m \u001b[0mERR_STATUS\u001b[0m\u001b[0;34m:\u001b[0m\u001b[0;34m\u001b[0m\u001b[0;34m\u001b[0m\u001b[0m\n\u001b[0;32m--> 745\u001b[0;31m             \u001b[0;32mraise\u001b[0m \u001b[0mget_exception\u001b[0m\u001b[0;34m(\u001b[0m\u001b[0mpacket\u001b[0m\u001b[0;34m)\u001b[0m\u001b[0;34m\u001b[0m\u001b[0;34m\u001b[0m\u001b[0m\n\u001b[0m\u001b[1;32m    746\u001b[0m \u001b[0;34m\u001b[0m\u001b[0m\n\u001b[1;32m    747\u001b[0m         \u001b[0;31m# We have a text result set\u001b[0m\u001b[0;34m\u001b[0m\u001b[0;34m\u001b[0m\u001b[0m\n",
            "\u001b[0;31mIntegrityError\u001b[0m: 1062 (23000): Duplicate entry 'C005' for key 'Old_Customer.PRIMARY'"
          ]
        }
      ]
    },
    {
      "cell_type": "code",
      "source": [
        "# UPDATE STATEMENT\n",
        "# 속성 값을 변경함\n",
        "# WHERE 절이 없으면 모든 행을 업데이트함\n",
        "# 의도적으로 모든 값을 변경하는거 아니면 WHERE 쓰는게 좋음\n",
        "\n",
        "\"\"\"\n",
        " UPDATE table_name\n",
        " SET column1 = value1, column2 = value2, ...\n",
        " WHERE condition\n",
        "\"\"\""
      ],
      "metadata": {
        "colab": {
          "base_uri": "https://localhost:8080/",
          "height": 35
        },
        "id": "bkltsQJ3y50q",
        "outputId": "12ae49d0-6789-4d9a-9c96-6d2213fc9b71"
      },
      "execution_count": null,
      "outputs": [
        {
          "output_type": "execute_result",
          "data": {
            "text/plain": [
              "'\\n UPDATE table_name\\n SET column1 = value1, column2 = value2, ...\\n WHERE condition\\n'"
            ],
            "application/vnd.google.colaboratory.intrinsic+json": {
              "type": "string"
            }
          },
          "metadata": {},
          "execution_count": 16
        }
      ]
    },
    {
      "cell_type": "code",
      "source": [
        "# Example-11: UPDATE Statement\n",
        "# Grade를 변경 (CustomerID가 C001인 사람을 Gold -> Silver)\n",
        "\n",
        "update_query = \"\"\"\n",
        " UPDATE Customer\n",
        " SET Grade = 'Silver'\n",
        " WHERE CustomerID='C001'\n",
        "\"\"\"\n",
        "\n",
        "cursor.execute(update_query)\n",
        "\n",
        "cursor.execute(\"SELECT * FROM Customer\")\n",
        "for row in cursor.fetchall():\n",
        "  print(row)\n"
      ],
      "metadata": {
        "colab": {
          "base_uri": "https://localhost:8080/"
        },
        "id": "GBnjbqK7z02O",
        "outputId": "fe8f502b-1c46-474b-cd63-d4969e0b76c5"
      },
      "execution_count": null,
      "outputs": [
        {
          "output_type": "stream",
          "name": "stdout",
          "text": [
            "('C001', 'Alice', 30, 'Silver', 'Engineer', 1000)\n",
            "('C002', 'Bob', 28, 'Silver', 'Designer', 0)\n",
            "('C003', 'Park', 21, 'VIP', 'Developer', 2000)\n",
            "('C004', 'Kim', 25, 'VIP', 'Designer', 5000)\n"
          ]
        }
      ]
    },
    {
      "cell_type": "code",
      "source": [
        "# Example-12: UPDATE Statement\n",
        "# 모든 Custoemr의 Points를 20% 인상하기\n",
        "\n",
        "update_query = \"\"\"\n",
        " UPDATE Customer\n",
        " SET Points = Points * 1.2;\n",
        "\"\"\"\n",
        "\n",
        "cursor.execute(update_query)\n",
        "cursor.execute(\"SELECT * FROM Customer\")\n",
        "for row in cursor.fetchall():\n",
        "  print(row)\n"
      ],
      "metadata": {
        "colab": {
          "base_uri": "https://localhost:8080/"
        },
        "id": "ZzIdpNb-0THz",
        "outputId": "82d8a6f3-857f-4332-f43c-fd2e6d2a3529"
      },
      "execution_count": null,
      "outputs": [
        {
          "output_type": "stream",
          "name": "stdout",
          "text": [
            "('C001', 'Alice', 30, 'Silver', 'Engineer', 1200)\n",
            "('C002', 'Bob', 28, 'Silver', 'Designer', 0)\n",
            "('C003', 'Park', 21, 'VIP', 'Developer', 2400)\n",
            "('C004', 'Kim', 25, 'VIP', 'Designer', 6000)\n"
          ]
        }
      ]
    },
    {
      "cell_type": "code",
      "source": [
        "# Example-13: UPDATE Statement에서의 subquery\n",
        "# Job이 엔지니어인 Customer의 Points를 1000 인상 (subquery 사용하기)\n",
        "\n",
        "# 1. SET 절에서 subquery 사용\n",
        "\"\"\"\n",
        " UPDATE Table\n",
        " SET Column = (\n",
        "  SELECT FROM WHERE ...\n",
        " )\n",
        " WHERE condition;\n",
        "\"\"\"\n",
        "\n",
        "# 2. WHERE 절에서 subquery 사용\n",
        "\"\"\"\n",
        " UPDATE Table\n",
        " SET Column = Value\n",
        " WHERE Condition IN (SELECT FROM WHERE ...);\n",
        "\"\"\"\n",
        "\n",
        "# 3. UPDATE JOIN SET 사용\n",
        "\"\"\"\n",
        " UPDATE Table AS T\n",
        " JOIN (\n",
        "  SELECT FROM WHERE ...\n",
        " ) AS sub # 임시 테이블 생\n",
        "\n",
        "\"\"\"\n",
        "\n",
        "# STEP 1) Customer에서 Engineer의 Points를 가져와 temp_sub라는 임시 테이블 생성\n",
        "# STEP 2) JOIN ON으로 ON 조건에 맞는 행들과 임시 테이블과 합쳐진 결과가 보여짐 (또 다른 임시 테이)\n",
        "# STEP 3) 그리고 SET으로 임시임시 테이블에서 Points가져와 업데이트 수행\n",
        "\n",
        "update_query = \"\"\"\n",
        " UPDATE Customer\n",
        " JOIN (\n",
        "  SELECT Job, Points + 1000 AS IncreasedPrice\n",
        "  FROM Customer\n",
        "  WHERE Job = 'Engineer'\n",
        " ) AS temp_sub\n",
        " ON Customer.Job = temp_sub.Job\n",
        " SET Customer.Points = temp_sub.IncreasedPrice\n",
        "\"\"\"\n",
        "cursor.execute(update_query)\n",
        "cursor.execute(\"SELECT * FROM Customer\")\n",
        "\n",
        "for row in cursor.fetchall():\n",
        "  print(row)\n"
      ],
      "metadata": {
        "colab": {
          "base_uri": "https://localhost:8080/"
        },
        "id": "MnKuP17g0moJ",
        "outputId": "4e6fc316-d9fb-4e7d-e67e-85fde9f171db"
      },
      "execution_count": null,
      "outputs": [
        {
          "output_type": "stream",
          "name": "stdout",
          "text": [
            "('C001', 'Alice', 30, 'Silver', 'Engineer', 2200)\n",
            "('C002', 'Bob', 28, 'Silver', 'Designer', 0)\n",
            "('C003', 'Park', 21, 'VIP', 'Developer', 2400)\n",
            "('C004', 'Kim', 25, 'VIP', 'Designer', 6000)\n"
          ]
        }
      ]
    },
    {
      "cell_type": "code",
      "source": [
        "# DELETE STATEMENT\n",
        "# WHERE 없으면 모든 행이 삭제될 것임\n",
        "\n",
        "\"\"\"\n",
        "DELETE\n",
        "FROM table_name\n",
        "WHERE condition;\n",
        "\"\"\"\n",
        "\n",
        "\n",
        "\n",
        "insert_query = \"\"\"\n",
        " INSERT\n",
        " INTO Customer (CustomerID, CustomerName, Age, Grade, Job, Points)\n",
        " VALUES (%s, %s, %s, %s, %s, %s);\n",
        "\"\"\"\n",
        "\n",
        "values = [('C006', 'Kim', 22, 'Silver', 'Artist', 1500),\n",
        "          ('C007', 'Park', 50, 'VIP', 'Artist', 7000),\n",
        "           ('C008', 'Yoon', 60, 'VIP', 'Artist', 10000)]\n",
        "\n",
        "cursor.executemany(insert_query, values)\n",
        "cursor.execute(\"SELECT * FROM Customer\")\n",
        "\n",
        "for row in cursor.fetchall():\n",
        "  print(row)"
      ],
      "metadata": {
        "colab": {
          "base_uri": "https://localhost:8080/"
        },
        "id": "Ru1ZG9-9DKt2",
        "outputId": "6798e209-993e-413d-ff17-62d3beb44acf"
      },
      "execution_count": null,
      "outputs": [
        {
          "output_type": "stream",
          "name": "stdout",
          "text": [
            "('C001', 'Alice', 30, 'Silver', 'Engineer', 2200)\n",
            "('C002', 'Bob', 28, 'Silver', 'Designer', 0)\n",
            "('C003', 'Park', 21, 'VIP', 'Developer', 2400)\n",
            "('C004', 'Kim', 25, 'VIP', 'Designer', 6000)\n",
            "('C006', 'Kim', 22, 'Silver', 'Artist', 1500)\n",
            "('C007', 'Park', 50, 'VIP', 'Artist', 7000)\n",
            "('C008', 'Yoon', 60, 'VIP', 'Artist', 10000)\n"
          ]
        }
      ]
    },
    {
      "cell_type": "code",
      "source": [
        "# Example-14: DELETE Statement\n",
        "# C006 삭제하기\n",
        "\n",
        "delete_query = \"\"\"\n",
        " DELETE\n",
        " FROM Customer\n",
        " WHERE CustomerID = 'C006';\n",
        "\"\"\"\n",
        "\n",
        "cursor.execute(delete_query)\n",
        "cursor.execute(\"SELECT * FROM Customer\")\n",
        "\n",
        "for row in cursor.fetchall():\n",
        "  print(row)"
      ],
      "metadata": {
        "colab": {
          "base_uri": "https://localhost:8080/"
        },
        "id": "apXhKQimEEaI",
        "outputId": "61b3be34-9c6f-4b53-e9f3-7d14c0e27f52"
      },
      "execution_count": null,
      "outputs": [
        {
          "output_type": "stream",
          "name": "stdout",
          "text": [
            "('C001', 'Alice', 30, 'Silver', 'Engineer', 2200)\n",
            "('C002', 'Bob', 28, 'Silver', 'Designer', 0)\n",
            "('C003', 'Park', 21, 'VIP', 'Developer', 2400)\n",
            "('C004', 'Kim', 25, 'VIP', 'Designer', 6000)\n",
            "('C007', 'Park', 50, 'VIP', 'Artist', 7000)\n",
            "('C008', 'Yoon', 60, 'VIP', 'Artist', 10000)\n"
          ]
        }
      ]
    },
    {
      "cell_type": "code",
      "source": [
        "# Example-15: DELETE Statement using a subquery\n",
        "# Job이 Artist인 사람 삭제\n",
        "\n",
        "# 1. DELETE FROM ... WHERE IN (SELECT FROM WHERE)\n",
        "\"\"\"\n",
        " DELETE FROM table_name\n",
        " WHERE column IN (\n",
        "  SELECT FROM WHERE\n",
        " )\n",
        "\"\"\"\n",
        "\n",
        "# 2. DELETE ... JOIN\n",
        "\"\"\"\n",
        " DELETE T\n",
        " FROM Table AS T\n",
        " JOIN (\n",
        "  SELECT FROM WHERE\n",
        " ) AS temp_sub\n",
        " ON C. = temp_sub.\n",
        "\"\"\"\n",
        "\n",
        "# 3. EXISTS\n",
        "\"\"\"\n",
        " DELETE FROM table_name\n",
        " WHERE EXISTS (\n",
        "  SELECT FROM WHERE\n",
        " )\n",
        "\"\"\"\n",
        "\n",
        "delete_query = \"\"\"\n",
        " DELETE C\n",
        " FROM Customer AS C\n",
        " JOIN (\n",
        "  SELECT Job AS J\n",
        "  FROM Customer\n",
        "  WHERE Job = 'Artist'\n",
        " ) AS temp_sub\n",
        " ON C.Job = temp_sub.J\n",
        "\"\"\"\n",
        "\n",
        "# delete_query = \"\"\"\n",
        "#  DELETE\n",
        "#  FROM Customer\n",
        "#  WHERE Job IN (\n",
        "#   SELECT * FROM (\n",
        "#     SELECT Job\n",
        "#     FROM Customer\n",
        "#     WHERE Job = 'Artist'\n",
        "#   )\n",
        "#  )\n",
        "# \"\"\"\n",
        "\n",
        "cursor.execute(delete_query)\n",
        "\n",
        "cursor.execute(\"SELECT * FROM Customer\")\n",
        "\n",
        "for row in cursor.fetchall():\n",
        "  print(row)"
      ],
      "metadata": {
        "colab": {
          "base_uri": "https://localhost:8080/"
        },
        "id": "3wVRVhuqEiOj",
        "outputId": "08850379-06f4-4fa3-8acf-710084fe2e8b"
      },
      "execution_count": null,
      "outputs": [
        {
          "output_type": "stream",
          "name": "stdout",
          "text": [
            "('C001', 'Alice', 30, 'Silver', 'Engineer', 2200)\n",
            "('C002', 'Bob', 28, 'Silver', 'Designer', 0)\n",
            "('C003', 'Park', 21, 'VIP', 'Developer', 2400)\n",
            "('C004', 'Kim', 25, 'VIP', 'Designer', 6000)\n"
          ]
        }
      ]
    },
    {
      "cell_type": "code",
      "source": [
        "# DELETE STATEMENT\n",
        "# 테이블의 모든 행 삭제하기\n",
        "# column names, data types, constraints만 남아 있음\n",
        "# DROP과는 다름\n",
        "\n",
        "\"\"\"\n",
        " DELETE FROM table_name;\n",
        "\"\"\""
      ],
      "metadata": {
        "id": "CN2w3YWKHS8k"
      },
      "execution_count": null,
      "outputs": []
    },
    {
      "cell_type": "code",
      "source": [
        "# SELECT STATEMENT\n",
        "# ALL: 중복된 행 포함해서 return (Default)\n",
        "# DISTINCT: 중복된 행 있으면 제거해서 return\n",
        "# AS: Column 별칭 지정\n",
        "# Arithmetic Expression: *,+,-,/ with constants\n",
        "# - 계산된 결과가 return\n",
        "# Logical Operators: AND, OR, NOT\n",
        "# Strings와 Dates는 무조건 single quotes로 되어야함\n",
        "\n",
        "# LIKE: 패턴 매칭 해줌\n",
        "# - %: 0개 이상 가져옴\n",
        "# - _: 정확히 1개만 가져옴\n",
        "# data%, %data, %data%, data___, __a%\n",
        "\n",
        "# NULL Conditions\n",
        "# IS NULL: NULL Value 인거 return\n",
        "# IS NOT NULL: NULL value 아닌거 return\n",
        "# NULL과 연산 수행하면 다 false 나올 것임\n",
        "\n",
        "# Sorting\n",
        "# ORDER BY\n",
        "# ASC: 오름차순 정렬 (NULL은 맨 뒤에 나타남)\n",
        "# DESC: 내림차순 정렬 (NULL은 맨 처음에 나타남)\n",
        "# 여러 column 기준으로 정렬하면, 우선 순위를 명시해줌\n",
        "\n",
        "# Aggregate\n",
        "# COUNT(), SUM(), AVG(), MAX(), MIN()\n",
        "# NULL은 무시함, WHERE 안에서 사용할 수 없음, SELECT 절이나, HAVING 절에서 사용 가능\n",
        "# COUNT(*): NULL 갯수 포함해서 row 계산\n",
        "# COUNT(column_name): NULL 갯수 제외하고 row 계산\n",
        "# SUM과 AVG는 numeric에서만 사용가능\n",
        "\n",
        "# Grouped Search\n",
        "# GROUP BY: 집계함수랑 보통 같이 쓰이며 ..\n",
        "# HAVING: 그룹화 이후 필터링\n",
        "\n",
        "# Join Queries for Multiple Tables\n",
        "# Table을 연결함\n",
        "# Join 속성: 두 테이블을 연결하는 공통의 열\n",
        "# - 속성명은 다름, 데이터 타입은 같아야함 (보통 외래키를 기준으로 조인함)\n",
        "# FROM Table1 JOIN Order ON\n",
        "# WHERE Table1.ID = Table2.CustomerID\n",
        "\n",
        "# Example-16: SELECT Statement\n",
        "# CustomerID, CustomerName, Grade, Customer를 가져올 것임\n",
        "# all columns를 가져올 것임\n",
        "\n",
        "select_query = \"\"\"\n",
        " SELECT CustomerID, CustomerName, Grade\n",
        " FROM Customer\n",
        "\"\"\"\n",
        "\n",
        "cursor.execute(select_query)\n",
        "\n",
        "for row in cursor.fetchall():\n",
        "  print(row)\n",
        "\n",
        "select_query = \"\"\"\n",
        " SELECT *\n",
        " FROM Customer\n",
        "\"\"\"\n",
        "\n",
        "cursor.execute(select_query)\n",
        "\n",
        "for row in cursor.fetchall():\n",
        "  print(row)"
      ],
      "metadata": {
        "colab": {
          "base_uri": "https://localhost:8080/"
        },
        "id": "5VjzfbhOIV8p",
        "outputId": "60affffc-9cd9-4f6c-f020-57d98a8e0d98"
      },
      "execution_count": null,
      "outputs": [
        {
          "output_type": "stream",
          "name": "stdout",
          "text": [
            "('C001', 'Alice', 'Silver')\n",
            "('C002', 'Bob', 'Silver')\n",
            "('C003', 'Park', 'VIP')\n",
            "('C004', 'Kim', 'VIP')\n",
            "('C001', 'Alice', 30, 'Silver', 'Engineer', 2200)\n",
            "('C002', 'Bob', 28, 'Silver', 'Designer', 0)\n",
            "('C003', 'Park', 21, 'VIP', 'Developer', 2400)\n",
            "('C004', 'Kim', 25, 'VIP', 'Designer', 6000)\n"
          ]
        }
      ]
    },
    {
      "cell_type": "code",
      "source": [
        "# Example-17: SELECT Statement\n",
        "# customer name과 job 가져옴\n",
        "# customer name과 ALL 키워드로 job 가져옴\n",
        "# DISTINCT로 가져옴\n",
        "\n",
        "# AS: 별칭 지정\n",
        "# - Oracle에서는 \"\"로 함\n",
        "# - MS-SQL에서는 ''로 함\n",
        "\n",
        "select_query = \"\"\"\n",
        " SELECT CustomerName, Job\n",
        " FROM Customer\n",
        "\"\"\"\n",
        "\n",
        "cursor.execute(select_query)\n",
        "\n",
        "for row in cursor.fetchall():\n",
        "  print(row)\n",
        "\n",
        "select_query = \"\"\"\n",
        " SELECT ALL CustomerName, Job\n",
        " FROM Customer\n",
        "\"\"\"\n",
        "\n",
        "cursor.execute(select_query)\n",
        "\n",
        "for row in cursor.fetchall():\n",
        "  print(row)\n",
        "\n",
        "select_query = \"\"\"\n",
        " SELECT DISTINCT CustomerName, Job\n",
        " FROM Customer\n",
        "\"\"\"\n",
        "\n",
        "\n",
        "cursor.execute(select_query)\n",
        "\n",
        "for row in cursor.fetchall():\n",
        "  print(row)"
      ],
      "metadata": {
        "colab": {
          "base_uri": "https://localhost:8080/"
        },
        "id": "r48RIyXiJnDM",
        "outputId": "51384421-1b1e-4518-a934-b1a637c66ea0"
      },
      "execution_count": null,
      "outputs": [
        {
          "output_type": "stream",
          "name": "stdout",
          "text": [
            "('Alice', 'Engineer')\n",
            "('Bob', 'Designer')\n",
            "('Park', 'Developer')\n",
            "('Kim', 'Designer')\n",
            "('Lee', 'Engineer')\n",
            "('Alice', 'Engineer')\n",
            "('Bob', 'Designer')\n",
            "('Park', 'Developer')\n",
            "('Kim', 'Designer')\n",
            "('Lee', 'Engineer')\n",
            "('Alice', 'Engineer')\n",
            "('Bob', 'Designer')\n",
            "('Park', 'Developer')\n",
            "('Kim', 'Designer')\n",
            "('Lee', 'Engineer')\n"
          ]
        }
      ]
    },
    {
      "cell_type": "code",
      "source": [
        "# Example-18: SELECT Statement\n",
        "# AS로 Renaming하기\n",
        "\n",
        "select_query = \"\"\"\n",
        " SELECT CustomerName AS Name\n",
        " FROM Customer\n",
        "\"\"\"\n",
        "\n",
        "\n",
        "cursor.execute(select_query)\n",
        "\n",
        "for row in cursor.fetchall():\n",
        "  print(row)\n",
        "\n",
        "\n",
        "# Renaming된 column 명을 확인하기 위한 코드\n",
        "print([desc[0] for desc in cursor.description])\n",
        "\n",
        "cursor.execute(\"SHOW columns in Customer\")\n",
        "columns = [col[0] for col in cursor.fetchall()]\n",
        "\n",
        "print(columns)\n",
        "\n"
      ],
      "metadata": {
        "colab": {
          "base_uri": "https://localhost:8080/"
        },
        "id": "MzexCbnsKn04",
        "outputId": "710740e1-5ab7-4086-ef07-4b00a51e776e"
      },
      "execution_count": null,
      "outputs": [
        {
          "output_type": "stream",
          "name": "stdout",
          "text": [
            "('Alice',)\n",
            "('Bob',)\n",
            "('Park',)\n",
            "('Kim',)\n",
            "('Lee',)\n",
            "['Name']\n",
            "['CustomerID', 'CustomerName', 'Age', 'Grade', 'Job', 'Points']\n"
          ]
        }
      ]
    },
    {
      "cell_type": "code",
      "source": [
        "from tabulate import tabulate\n",
        "\n",
        "# Example-19: CustomerName을 가져오고 Points에 1000을 더해서 가져옴\n",
        "\n",
        "select_query = \"\"\"\n",
        " SELECT CustomerName, Points + 1000 AS Score\n",
        " FROM Customer;\n",
        "\"\"\"\n",
        "\n",
        "cursor.execute(select_query)\n",
        "\n",
        "rows = cursor.fetchall()\n",
        "\n",
        "columns = [desc[0] for desc in cursor.description]\n",
        "\n",
        "print(tabulate(rows, headers=columns, tablefmt=\"psql\"))"
      ],
      "metadata": {
        "colab": {
          "base_uri": "https://localhost:8080/"
        },
        "id": "HjFFFizHLbSR",
        "outputId": "b1a0a1d8-4847-45e1-ad21-78445780d798"
      },
      "execution_count": null,
      "outputs": [
        {
          "output_type": "stream",
          "name": "stdout",
          "text": [
            "+----------------+---------+\n",
            "| CustomerName   |   Score |\n",
            "|----------------+---------|\n",
            "| Alice          |    3200 |\n",
            "| Bob            |    1000 |\n",
            "| Park           |    3400 |\n",
            "| Kim            |    7000 |\n",
            "| Lee            |    5600 |\n",
            "+----------------+---------+\n"
          ]
        }
      ]
    },
    {
      "cell_type": "code",
      "source": [
        "# Example-20: Conditional Query\n",
        "# Points >= 4000, ID, Name, Age 가져오기\n",
        "# VIP 또는 Points가 4000보다 큰거 가져오기\n",
        "# Points 가 2000과 4000 사이인거 가져오기\n",
        "\n",
        "select_query = \"\"\"\n",
        " SELECT CustomerID, CustomerName, Age\n",
        " FROM Customer\n",
        " WHERE Points >= 4000\n",
        "\"\"\"\n",
        "\n",
        "cursor.execute(select_query)\n",
        "\n",
        "rows = cursor.fetchall()\n",
        "columns = [desc[0] for desc in cursor.description]\n",
        "print(tabulate(rows, headers=columns, tablefmt=\"psql\"))\n",
        "\n",
        "select_query = \"\"\"\n",
        " SELECT *\n",
        " FROM Customer\n",
        " WHERE Grade = 'VIP' OR Points >= 4000;\n",
        "\"\"\"\n",
        "\n",
        "cursor.execute(select_query)\n",
        "\n",
        "rows = cursor.fetchall()\n",
        "columns = [desc[0] for desc in cursor.description]\n",
        "print(tabulate(rows, headers=columns, tablefmt=\"psql\"))\n",
        "\n",
        "select_query = \"\"\"\n",
        " SELECT *\n",
        " FROM Customer\n",
        " WHERE Points >= 2000 AND Points <= 4000;\n",
        "\"\"\"\n",
        "\n",
        "cursor.execute(select_query)\n",
        "\n",
        "rows = cursor.fetchall()\n",
        "columns = [desc[0] for desc in cursor.description]\n",
        "print(tabulate(rows, headers=columns, tablefmt=\"psql\"))"
      ],
      "metadata": {
        "colab": {
          "base_uri": "https://localhost:8080/"
        },
        "id": "XbAcSkBwMah0",
        "outputId": "4d081e22-c4dd-4f49-84a2-d7b3864ed857"
      },
      "execution_count": null,
      "outputs": [
        {
          "output_type": "stream",
          "name": "stdout",
          "text": [
            "+--------------+----------------+-------+\n",
            "| CustomerID   | CustomerName   |   Age |\n",
            "|--------------+----------------+-------|\n",
            "| C004         | Kim            |    25 |\n",
            "| C005         | Lee            |    45 |\n",
            "+--------------+----------------+-------+\n",
            "+--------------+----------------+-------+---------+-----------+----------+\n",
            "| CustomerID   | CustomerName   |   Age | Grade   | Job       |   Points |\n",
            "|--------------+----------------+-------+---------+-----------+----------|\n",
            "| C003         | Park           |    21 | VIP     | Developer |     2400 |\n",
            "| C004         | Kim            |    25 | VIP     | Designer  |     6000 |\n",
            "| C005         | Lee            |    45 | Gold    | Engineer  |     4600 |\n",
            "+--------------+----------------+-------+---------+-----------+----------+\n",
            "+--------------+----------------+-------+---------+-----------+----------+\n",
            "| CustomerID   | CustomerName   |   Age | Grade   | Job       |   Points |\n",
            "|--------------+----------------+-------+---------+-----------+----------|\n",
            "| C001         | Alice          |    30 | Silver  | Engineer  |     2200 |\n",
            "| C003         | Park           |    21 | VIP     | Developer |     2400 |\n",
            "+--------------+----------------+-------+---------+-----------+----------+\n"
          ]
        }
      ]
    },
    {
      "cell_type": "code",
      "source": [
        "# Example-21: Searching with LIKE\n",
        "\n",
        "select_query = \"\"\"\n",
        " SELECT CustomerName, Age, Grade, Points\n",
        " FROM Customer\n",
        " WHERE CustomerName LIKE 'A%' OR CustomerName LIKE 'B%'\n",
        "\"\"\"\n",
        "\n",
        "\n",
        "cursor.execute(select_query)\n",
        "\n",
        "rows = cursor.fetchall()\n",
        "columns = [desc[0] for desc in cursor.description]\n",
        "print(tabulate(rows, headers=columns, tablefmt=\"psql\"))"
      ],
      "metadata": {
        "colab": {
          "base_uri": "https://localhost:8080/"
        },
        "id": "Ds0Lr2NIN3x_",
        "outputId": "f3b521bf-f22e-4077-c823-2eef5529511c"
      },
      "execution_count": null,
      "outputs": [
        {
          "output_type": "stream",
          "name": "stdout",
          "text": [
            "+----------------+-------+---------+----------+\n",
            "| CustomerName   |   Age | Grade   |   Points |\n",
            "|----------------+-------+---------+----------|\n",
            "| Alice          |    30 | Silver  |     2200 |\n",
            "| Bob            |    28 | Silver  |        0 |\n",
            "+----------------+-------+---------+----------+\n"
          ]
        }
      ]
    },
    {
      "cell_type": "code",
      "source": [
        "# Example-22: Searching with LIKE\n",
        "# 정확히 3글자만 매칭시키기\n",
        "\n",
        "select_query = \"\"\"\n",
        " SELECT CustomerName, Age, Grade\n",
        " FROM Customer\n",
        " WHERE CustomerName LIKE '___'\n",
        "\"\"\"\n",
        "\n",
        "\n",
        "cursor.execute(select_query)\n",
        "\n",
        "rows = cursor.fetchall()\n",
        "columns = [desc[0] for desc in cursor.description]\n",
        "print(tabulate(rows, headers=columns, tablefmt=\"psql\"))"
      ],
      "metadata": {
        "colab": {
          "base_uri": "https://localhost:8080/"
        },
        "id": "4mcWqkMxOgnw",
        "outputId": "319db992-a7a7-41b9-9e86-d116d0ee406c"
      },
      "execution_count": null,
      "outputs": [
        {
          "output_type": "stream",
          "name": "stdout",
          "text": [
            "+----------------+-------+---------+\n",
            "| CustomerName   |   Age | Grade   |\n",
            "|----------------+-------+---------|\n",
            "| Bob            |    28 | Silver  |\n",
            "| Kim            |    25 | VIP     |\n",
            "| Lee            |    45 | Gold    |\n",
            "+----------------+-------+---------+\n"
          ]
        }
      ]
    },
    {
      "cell_type": "code",
      "source": [
        "# Example-23: Searching with NULL Conditions\n",
        "\n",
        "select_query = \"\"\"\n",
        " SELECT CustomerName\n",
        " FROM Customer\n",
        " WHERE AGE IS NULL;\n",
        "\"\"\"\n",
        "\n",
        "cursor.execute(select_query)\n",
        "\n",
        "rows = cursor.fetchall()\n",
        "columns = [desc[0] for desc in cursor.description]\n",
        "print(tabulate(rows, headers=columns, tablefmt=\"psql\"))\n",
        "\n",
        "\n",
        "select_query = \"\"\"\n",
        " SELECT CustomerName\n",
        " FROM Customer\n",
        " WHERE AGE IS NOT NULL;\n",
        "\"\"\"\n",
        "\n",
        "cursor.execute(select_query)\n",
        "\n",
        "rows = cursor.fetchall()\n",
        "columns = [desc[0] for desc in cursor.description]\n",
        "print(tabulate(rows, headers=columns, tablefmt=\"psql\"))"
      ],
      "metadata": {
        "colab": {
          "base_uri": "https://localhost:8080/"
        },
        "id": "CP7BMMrfPFpE",
        "outputId": "b53bed59-0aaf-4638-8d0f-3762393dd3d7"
      },
      "execution_count": null,
      "outputs": [
        {
          "output_type": "stream",
          "name": "stdout",
          "text": [
            "+----------------+\n",
            "| CustomerName   |\n",
            "|----------------|\n",
            "+----------------+\n",
            "+----------------+\n",
            "| CustomerName   |\n",
            "|----------------|\n",
            "| Alice          |\n",
            "| Bob            |\n",
            "| Park           |\n",
            "| Kim            |\n",
            "| Lee            |\n",
            "+----------------+\n"
          ]
        }
      ]
    },
    {
      "cell_type": "code",
      "source": [
        "# Example-24: Sorting Search Results\n",
        "# 1. Age를 내림차순으로 정렬해서 Name, Grade, Age 가져오기\n",
        "# 2. Points가 2000보다 크거나 같은거 가져오고, Age는 오름차순, 동일 값 있으면 Points를 내림차순으로 함\n",
        "\n",
        "select_query = \"\"\"\n",
        " SELECT CustomerName, Grade, Age\n",
        " FROM Customer\n",
        " ORDER BY Age ASC\n",
        "\"\"\"\n",
        "\n",
        "cursor.execute(select_query)\n",
        "\n",
        "rows = cursor.fetchall()\n",
        "columns = [desc[0] for desc in cursor.description]\n",
        "print(tabulate(rows, headers=columns, tablefmt=\"psql\"))\n",
        "\n",
        "select_query = \"\"\"\n",
        " SELECT *\n",
        " FROM Customer\n",
        " WHERE Points >= 2000\n",
        " ORDER BY Age ASC, Points DESC\n",
        "\"\"\"\n",
        "\n",
        "cursor.execute(select_query)\n",
        "\n",
        "rows = cursor.fetchall()\n",
        "columns = [desc[0] for desc in cursor.description]\n",
        "print(tabulate(rows, headers=columns, tablefmt=\"psql\"))"
      ],
      "metadata": {
        "colab": {
          "base_uri": "https://localhost:8080/"
        },
        "id": "FHl6etRpP3QE",
        "outputId": "fbdcaf71-930a-4777-a506-449002890a9f"
      },
      "execution_count": null,
      "outputs": [
        {
          "output_type": "stream",
          "name": "stdout",
          "text": [
            "+----------------+---------+-------+\n",
            "| CustomerName   | Grade   |   Age |\n",
            "|----------------+---------+-------|\n",
            "| Park           | VIP     |    21 |\n",
            "| Kim            | VIP     |    25 |\n",
            "| Bob            | Silver  |    28 |\n",
            "| Alice          | Silver  |    30 |\n",
            "| Lee            | Gold    |    45 |\n",
            "+----------------+---------+-------+\n",
            "+--------------+----------------+-------+---------+-----------+----------+\n",
            "| CustomerID   | CustomerName   |   Age | Grade   | Job       |   Points |\n",
            "|--------------+----------------+-------+---------+-----------+----------|\n",
            "| C003         | Park           |    21 | VIP     | Developer |     2400 |\n",
            "| C004         | Kim            |    25 | VIP     | Designer  |     6000 |\n",
            "| C001         | Alice          |    30 | Silver  | Engineer  |     2200 |\n",
            "| C005         | Lee            |    45 | Gold    | Engineer  |     4600 |\n",
            "+--------------+----------------+-------+---------+-----------+----------+\n"
          ]
        }
      ]
    },
    {
      "cell_type": "code",
      "source": [
        "# Example-25: Sorting Search Results\n",
        "# Points가 2000보다 크거나 같은 값 가져오기\n",
        "# AGE로 오름차순, Points로 내림차순\n",
        "\n",
        "# insert_query = \"\"\"\n",
        "#  INSERT\n",
        "#  INTO Customer (CustomerID, CustomerName, Age, Grade, Job, Points)\n",
        "#  VALUES ('C006', 'Yoon', 21, 'Silver', 'Engineer', 3000)\n",
        "# \"\"\"\n",
        "\n",
        "# cursor.execute(insert_query)\n",
        "\n",
        "select_query = \"\"\"\n",
        " SELECT *\n",
        " FROM Customer\n",
        " WHERE Points >= 2000\n",
        " ORDER BY Age ASC, Points DESC\n",
        "\"\"\"\n",
        "\n",
        "\n",
        "cursor.execute(select_query)\n",
        "\n",
        "rows = cursor.fetchall()\n",
        "columns = [desc[0] for desc in cursor.description]\n",
        "print(tabulate(rows, headers=columns, tablefmt=\"psql\"))"
      ],
      "metadata": {
        "colab": {
          "base_uri": "https://localhost:8080/"
        },
        "id": "ldWR7lFEQcZk",
        "outputId": "c15870aa-a1f8-43dc-a2d5-6d76cdc1176b"
      },
      "execution_count": null,
      "outputs": [
        {
          "output_type": "stream",
          "name": "stdout",
          "text": [
            "+--------------+----------------+-------+---------+-----------+----------+\n",
            "| CustomerID   | CustomerName   |   Age | Grade   | Job       |   Points |\n",
            "|--------------+----------------+-------+---------+-----------+----------|\n",
            "| C006         | Yoon           |    21 | Silver  | Engineer  |     3000 |\n",
            "| C003         | Park           |    21 | VIP     | Developer |     2400 |\n",
            "| C004         | Kim            |    25 | VIP     | Designer  |     6000 |\n",
            "| C001         | Alice          |    30 | Silver  | Engineer  |     2200 |\n",
            "| C005         | Lee            |    45 | Gold    | Engineer  |     4600 |\n",
            "+--------------+----------------+-------+---------+-----------+----------+\n"
          ]
        }
      ]
    },
    {
      "cell_type": "code",
      "source": [
        "# Example-26: Searching with Aggregate Functions\n",
        "# 1. Points의 평균 계산하기\n",
        "# 2. Total Points 계산하기 (Job이 Engineer인 사람)\n",
        "\n",
        "select_query = \"\"\"\n",
        " SELECT AVG(Points) AS AveragePoints\n",
        " FROM Customer\n",
        "\"\"\"\n",
        "\n",
        "cursor.execute(select_query)\n",
        "\n",
        "rows = cursor.fetchall()\n",
        "columns = [desc[0] for desc in cursor.description]\n",
        "print(tabulate(rows, headers=columns, tablefmt=\"psql\"))\n",
        "\n",
        "# AS에 공백있으면 '', \"\"로 묶어야함 (한 단어면 '', \"\", 없어도되고 있어도됨)\n",
        "select_query = \"\"\"\n",
        " SELECT SUM(Points) AS \"Total Points\"\n",
        "\n",
        " FROM Customer\n",
        " WHERE Job = 'Engineer'\n",
        "\"\"\"\n",
        "\n",
        "cursor.execute(select_query)\n",
        "\n",
        "rows = cursor.fetchall()\n",
        "columns = [desc[0] for desc in cursor.description]\n",
        "print(tabulate(rows, headers=columns, tablefmt=\"psql\"))"
      ],
      "metadata": {
        "colab": {
          "base_uri": "https://localhost:8080/"
        },
        "id": "BJzafs7BRGbb",
        "outputId": "eb459bb3-3161-4e82-8172-5e9771ce9519"
      },
      "execution_count": null,
      "outputs": [
        {
          "output_type": "stream",
          "name": "stdout",
          "text": [
            "+-----------------+\n",
            "|   AveragePoints |\n",
            "|-----------------|\n",
            "|         3033.33 |\n",
            "+-----------------+\n",
            "+----------------+\n",
            "|   Total Points |\n",
            "|----------------|\n",
            "|           9800 |\n",
            "+----------------+\n"
          ]
        }
      ]
    },
    {
      "cell_type": "code",
      "source": [
        "# Example-27: Searching with Aggregation Functions\n",
        "# insert_query = \"\"\"\n",
        "#  INSERT\n",
        "#  INTO Customer (CustomerID, CustomerName, Age, Grade, Job, Points)\n",
        "#  VALUES ('C007', 'Park', NULL, 'Gold', 'Artist', 1200)\n",
        "# \"\"\"\n",
        "\n",
        "# cursor.execute(insert_query)\n",
        "\n",
        "select_query = \"\"\"\n",
        " SELECT COUNT(CustomerID) AS 'Total Customers'\n",
        " FROM Customer\n",
        "\"\"\"\n",
        "\n",
        "\n",
        "cursor.execute(select_query)\n",
        "\n",
        "rows = cursor.fetchall()\n",
        "columns = [desc[0] for desc in cursor.description]\n",
        "print(tabulate(rows, headers=columns, tablefmt=\"psql\"))\n",
        "\n",
        "select_query = \"\"\"\n",
        " SELECT COUNT(Age) AS 'Customers with Age'\n",
        " FROM Customer\n",
        "\"\"\"\n",
        "\n",
        "\n",
        "cursor.execute(select_query)\n",
        "\n",
        "rows = cursor.fetchall()\n",
        "columns = [desc[0] for desc in cursor.description]\n",
        "print(tabulate(rows, headers=columns, tablefmt=\"psql\"))\n",
        "\n",
        "select_query = \"\"\"\n",
        " SELECT COUNT(*) AS 'Total Rows'\n",
        " FROM Customer\n",
        "\"\"\"\n",
        "\n",
        "\n",
        "cursor.execute(select_query)\n",
        "\n",
        "rows = cursor.fetchall()\n",
        "columns = [desc[0] for desc in cursor.description]\n",
        "print(tabulate(rows, headers=columns, tablefmt=\"psql\"))\n",
        "\n"
      ],
      "metadata": {
        "colab": {
          "base_uri": "https://localhost:8080/"
        },
        "id": "Akm3PzUtS9Gd",
        "outputId": "f444e603-1dd0-4040-cb52-975d9efca10d"
      },
      "execution_count": null,
      "outputs": [
        {
          "output_type": "stream",
          "name": "stdout",
          "text": [
            "+-------------------+\n",
            "|   Total Customers |\n",
            "|-------------------|\n",
            "|                 7 |\n",
            "+-------------------+\n",
            "+----------------------+\n",
            "|   Customers with Age |\n",
            "|----------------------|\n",
            "|                    6 |\n",
            "+----------------------+\n",
            "+--------------+\n",
            "|   Total Rows |\n",
            "|--------------|\n",
            "|            7 |\n",
            "+--------------+\n"
          ]
        }
      ]
    },
    {
      "cell_type": "code",
      "source": [
        "# Example-28: Grouped Search\n",
        "# 1. 직업 마다 Total Points를 가져오기\n",
        "\n",
        "select_query = \"\"\"\n",
        " SELECT Job, SUM(Points) AS TotalPoints\n",
        " FROM Customer\n",
        " GROUP BY Job\n",
        "\"\"\"\n",
        "cursor.execute(select_query)\n",
        "\n",
        "rows = cursor.fetchall()\n",
        "columns = [desc[0] for desc in cursor.description]\n",
        "print(tabulate(rows, headers=columns, tablefmt=\"psql\"))\n",
        "\n",
        "\n"
      ],
      "metadata": {
        "colab": {
          "base_uri": "https://localhost:8080/"
        },
        "id": "CzH4DbgWYuSe",
        "outputId": "7be60547-701d-4a9d-8d06-8bf3bf94cc2c"
      },
      "execution_count": null,
      "outputs": [
        {
          "output_type": "stream",
          "name": "stdout",
          "text": [
            "+-----------+---------------+\n",
            "| Job       |   TotalPoints |\n",
            "|-----------+---------------|\n",
            "| Engineer  |          9800 |\n",
            "| Designer  |          6000 |\n",
            "| Developer |          2400 |\n",
            "| Artist    |          1200 |\n",
            "+-----------+---------------+\n"
          ]
        }
      ]
    },
    {
      "cell_type": "code",
      "source": [
        "# Example-29: Grouped Search\n",
        "# 1. Job 갯수 및 Points 최댓값 가져오기\n",
        "\n",
        "select_query = \"\"\"\n",
        " SELECT Grade, COUNT(DISTINCT Job) AS 'Number of Jobs', MAX(Points) AS 'Max Point'\n",
        " FROM Customer\n",
        " GROUP BY Grade\n",
        "\"\"\"\n",
        "\n",
        "cursor.execute(select_query)\n",
        "\n",
        "rows = cursor.fetchall()\n",
        "columns = [desc[0] for desc in cursor.description]\n",
        "print(tabulate(rows, headers=columns, tablefmt=\"psql\"))\n",
        "\n"
      ],
      "metadata": {
        "colab": {
          "base_uri": "https://localhost:8080/"
        },
        "id": "l2r3xXPCTg67",
        "outputId": "0940b006-75f3-4759-deb2-5c822869cd5e"
      },
      "execution_count": null,
      "outputs": [
        {
          "output_type": "stream",
          "name": "stdout",
          "text": [
            "+---------+------------------+-------------+\n",
            "| Grade   |   Number of Jobs |   Max Point |\n",
            "|---------+------------------+-------------|\n",
            "| Gold    |                2 |        4600 |\n",
            "| Silver  |                2 |        3000 |\n",
            "| VIP     |                2 |        6000 |\n",
            "+---------+------------------+-------------+\n"
          ]
        }
      ]
    },
    {
      "cell_type": "code",
      "source": [
        "# Example-30: Join Queries for Multiple Tables\n",
        "\n",
        "cursor = conn.cursor()\n",
        "\n",
        "cursor.execute(\"\"\"\n",
        "CREATE TABLE IF NOT EXISTS Grade_Info (\n",
        "  Grade VARCHAR(10) PRIMARY KEY,\n",
        "  DiscountRate INT\n",
        ")\n",
        "\"\"\")\n",
        "\n",
        "conn.commit()\n",
        "\n",
        "cursor.executemany(\n",
        "    \"\"\"\n",
        "    INSERT INTO Grade_Info (Grade, DiscountRate) VALUES (%s, %s)\n",
        "    \"\"\", [('Silver', 10), ('Gold', 20), ('VIP', 30)]\n",
        ")\n",
        "\n",
        "conn.commit()\n"
      ],
      "metadata": {
        "colab": {
          "base_uri": "https://localhost:8080/",
          "height": 391
        },
        "id": "XyAZjU77ajyj",
        "outputId": "32d4c4b8-c786-4543-bb7b-cea7a32db38d"
      },
      "execution_count": null,
      "outputs": [
        {
          "output_type": "error",
          "ename": "IntegrityError",
          "evalue": "1062 (23000): Duplicate entry 'Silver' for key 'Grade_Info.PRIMARY'",
          "traceback": [
            "\u001b[0;31m---------------------------------------------------------------------------\u001b[0m",
            "\u001b[0;31mIntegrityError\u001b[0m                            Traceback (most recent call last)",
            "\u001b[0;32m<ipython-input-80-984796772>\u001b[0m in \u001b[0;36m<cell line: 0>\u001b[0;34m()\u001b[0m\n\u001b[1;32m     12\u001b[0m \u001b[0mconn\u001b[0m\u001b[0;34m.\u001b[0m\u001b[0mcommit\u001b[0m\u001b[0;34m(\u001b[0m\u001b[0;34m)\u001b[0m\u001b[0;34m\u001b[0m\u001b[0;34m\u001b[0m\u001b[0m\n\u001b[1;32m     13\u001b[0m \u001b[0;34m\u001b[0m\u001b[0m\n\u001b[0;32m---> 14\u001b[0;31m cursor.executemany(\n\u001b[0m\u001b[1;32m     15\u001b[0m     \"\"\"\n\u001b[1;32m     16\u001b[0m     \u001b[0mINSERT\u001b[0m \u001b[0mINTO\u001b[0m \u001b[0mGrade_Info\u001b[0m \u001b[0;34m(\u001b[0m\u001b[0mGrade\u001b[0m\u001b[0;34m,\u001b[0m \u001b[0mDiscountRate\u001b[0m\u001b[0;34m)\u001b[0m \u001b[0mVALUES\u001b[0m \u001b[0;34m(\u001b[0m\u001b[0;34m%\u001b[0m\u001b[0ms\u001b[0m\u001b[0;34m,\u001b[0m \u001b[0;34m%\u001b[0m\u001b[0ms\u001b[0m\u001b[0;34m)\u001b[0m\u001b[0;34m\u001b[0m\u001b[0;34m\u001b[0m\u001b[0m\n",
            "\u001b[0;32m/usr/local/lib/python3.11/dist-packages/mysql/connector/cursor.py\u001b[0m in \u001b[0;36mexecutemany\u001b[0;34m(self, operation, seq_params)\u001b[0m\n\u001b[1;32m    522\u001b[0m             \u001b[0;32mif\u001b[0m \u001b[0mstmt\u001b[0m \u001b[0;32mis\u001b[0m \u001b[0;32mnot\u001b[0m \u001b[0;32mNone\u001b[0m\u001b[0;34m:\u001b[0m\u001b[0;34m\u001b[0m\u001b[0;34m\u001b[0m\u001b[0m\n\u001b[1;32m    523\u001b[0m                 \u001b[0mself\u001b[0m\u001b[0;34m.\u001b[0m\u001b[0m_executed\u001b[0m \u001b[0;34m=\u001b[0m \u001b[0mstmt\u001b[0m\u001b[0;34m\u001b[0m\u001b[0;34m\u001b[0m\u001b[0m\n\u001b[0;32m--> 524\u001b[0;31m                 \u001b[0;32mreturn\u001b[0m \u001b[0mself\u001b[0m\u001b[0;34m.\u001b[0m\u001b[0mexecute\u001b[0m\u001b[0;34m(\u001b[0m\u001b[0mstmt\u001b[0m\u001b[0;34m)\u001b[0m\u001b[0;34m\u001b[0m\u001b[0;34m\u001b[0m\u001b[0m\n\u001b[0m\u001b[1;32m    525\u001b[0m \u001b[0;34m\u001b[0m\u001b[0m\n\u001b[1;32m    526\u001b[0m         \u001b[0mrowcnt\u001b[0m \u001b[0;34m=\u001b[0m \u001b[0;36m0\u001b[0m\u001b[0;34m\u001b[0m\u001b[0;34m\u001b[0m\u001b[0m\n",
            "\u001b[0;32m/usr/local/lib/python3.11/dist-packages/mysql/connector/cursor.py\u001b[0m in \u001b[0;36mexecute\u001b[0;34m(self, operation, params, map_results)\u001b[0m\n\u001b[1;32m    416\u001b[0m \u001b[0;34m\u001b[0m\u001b[0m\n\u001b[1;32m    417\u001b[0m         self._handle_result(\n\u001b[0;32m--> 418\u001b[0;31m             self._connection.cmd_query(\n\u001b[0m\u001b[1;32m    419\u001b[0m                 \u001b[0mself\u001b[0m\u001b[0;34m.\u001b[0m\u001b[0m_stmt_partition\u001b[0m\u001b[0;34m[\u001b[0m\u001b[0;34m\"mappable_stmt\"\u001b[0m\u001b[0;34m]\u001b[0m\u001b[0;34m,\u001b[0m\u001b[0;34m\u001b[0m\u001b[0;34m\u001b[0m\u001b[0m\n\u001b[1;32m    420\u001b[0m                 \u001b[0mread_timeout\u001b[0m\u001b[0;34m=\u001b[0m\u001b[0mself\u001b[0m\u001b[0;34m.\u001b[0m\u001b[0m_read_timeout\u001b[0m\u001b[0;34m,\u001b[0m\u001b[0;34m\u001b[0m\u001b[0;34m\u001b[0m\u001b[0m\n",
            "\u001b[0;32m/usr/local/lib/python3.11/dist-packages/mysql/connector/opentelemetry/context_propagation.py\u001b[0m in \u001b[0;36mwrapper\u001b[0;34m(cnx, *args, **kwargs)\u001b[0m\n\u001b[1;32m     95\u001b[0m         \u001b[0;31m# pylint: disable=possibly-used-before-assignment\u001b[0m\u001b[0;34m\u001b[0m\u001b[0;34m\u001b[0m\u001b[0m\n\u001b[1;32m     96\u001b[0m         \u001b[0;32mif\u001b[0m \u001b[0;32mnot\u001b[0m \u001b[0mOTEL_ENABLED\u001b[0m \u001b[0;32mor\u001b[0m \u001b[0;32mnot\u001b[0m \u001b[0mcnx\u001b[0m\u001b[0;34m.\u001b[0m\u001b[0motel_context_propagation\u001b[0m\u001b[0;34m:\u001b[0m\u001b[0;34m\u001b[0m\u001b[0;34m\u001b[0m\u001b[0m\n\u001b[0;32m---> 97\u001b[0;31m             \u001b[0;32mreturn\u001b[0m \u001b[0mmethod\u001b[0m\u001b[0;34m(\u001b[0m\u001b[0mcnx\u001b[0m\u001b[0;34m,\u001b[0m \u001b[0;34m*\u001b[0m\u001b[0margs\u001b[0m\u001b[0;34m,\u001b[0m \u001b[0;34m**\u001b[0m\u001b[0mkwargs\u001b[0m\u001b[0;34m)\u001b[0m\u001b[0;34m\u001b[0m\u001b[0;34m\u001b[0m\u001b[0m\n\u001b[0m\u001b[1;32m     98\u001b[0m \u001b[0;34m\u001b[0m\u001b[0m\n\u001b[1;32m     99\u001b[0m         \u001b[0mcurrent_span\u001b[0m \u001b[0;34m=\u001b[0m \u001b[0mtrace\u001b[0m\u001b[0;34m.\u001b[0m\u001b[0mget_current_span\u001b[0m\u001b[0;34m(\u001b[0m\u001b[0;34m)\u001b[0m\u001b[0;34m\u001b[0m\u001b[0;34m\u001b[0m\u001b[0m\n",
            "\u001b[0;32m/usr/local/lib/python3.11/dist-packages/mysql/connector/_decorating.py\u001b[0m in \u001b[0;36mhandle_cnx_method\u001b[0;34m(cnx, *args, **kwargs)\u001b[0m\n\u001b[1;32m     87\u001b[0m                 \u001b[0;32mif\u001b[0m \u001b[0misinstance\u001b[0m\u001b[0;34m(\u001b[0m\u001b[0merr\u001b[0m\u001b[0;34m,\u001b[0m \u001b[0mTimeoutError\u001b[0m\u001b[0;34m)\u001b[0m\u001b[0;34m:\u001b[0m\u001b[0;34m\u001b[0m\u001b[0;34m\u001b[0m\u001b[0m\n\u001b[1;32m     88\u001b[0m                     \u001b[0mcnx\u001b[0m\u001b[0;34m.\u001b[0m\u001b[0mclose\u001b[0m\u001b[0;34m(\u001b[0m\u001b[0;34m)\u001b[0m\u001b[0;34m\u001b[0m\u001b[0;34m\u001b[0m\u001b[0m\n\u001b[0;32m---> 89\u001b[0;31m                 \u001b[0;32mraise\u001b[0m \u001b[0merr\u001b[0m\u001b[0;34m\u001b[0m\u001b[0;34m\u001b[0m\u001b[0m\n\u001b[0m\u001b[1;32m     90\u001b[0m \u001b[0;34m\u001b[0m\u001b[0m\n\u001b[1;32m     91\u001b[0m         \u001b[0;32mreturn\u001b[0m \u001b[0mhandle_cnx_method\u001b[0m\u001b[0;34m\u001b[0m\u001b[0;34m\u001b[0m\u001b[0m\n",
            "\u001b[0;32m/usr/local/lib/python3.11/dist-packages/mysql/connector/_decorating.py\u001b[0m in \u001b[0;36mhandle_cnx_method\u001b[0;34m(cnx, *args, **kwargs)\u001b[0m\n\u001b[1;32m     83\u001b[0m         ) -> Any:\n\u001b[1;32m     84\u001b[0m             \u001b[0;32mtry\u001b[0m\u001b[0;34m:\u001b[0m\u001b[0;34m\u001b[0m\u001b[0;34m\u001b[0m\u001b[0m\n\u001b[0;32m---> 85\u001b[0;31m                 \u001b[0;32mreturn\u001b[0m \u001b[0mcnx_method\u001b[0m\u001b[0;34m(\u001b[0m\u001b[0mcnx\u001b[0m\u001b[0;34m,\u001b[0m \u001b[0;34m*\u001b[0m\u001b[0margs\u001b[0m\u001b[0;34m,\u001b[0m \u001b[0;34m**\u001b[0m\u001b[0mkwargs\u001b[0m\u001b[0;34m)\u001b[0m\u001b[0;34m\u001b[0m\u001b[0;34m\u001b[0m\u001b[0m\n\u001b[0m\u001b[1;32m     86\u001b[0m             \u001b[0;32mexcept\u001b[0m \u001b[0mException\u001b[0m \u001b[0;32mas\u001b[0m \u001b[0merr\u001b[0m\u001b[0;34m:\u001b[0m\u001b[0;34m\u001b[0m\u001b[0;34m\u001b[0m\u001b[0m\n\u001b[1;32m     87\u001b[0m                 \u001b[0;32mif\u001b[0m \u001b[0misinstance\u001b[0m\u001b[0;34m(\u001b[0m\u001b[0merr\u001b[0m\u001b[0;34m,\u001b[0m \u001b[0mTimeoutError\u001b[0m\u001b[0;34m)\u001b[0m\u001b[0;34m:\u001b[0m\u001b[0;34m\u001b[0m\u001b[0;34m\u001b[0m\u001b[0m\n",
            "\u001b[0;32m/usr/local/lib/python3.11/dist-packages/mysql/connector/connection.py\u001b[0m in \u001b[0;36mcmd_query\u001b[0;34m(self, query, raw, buffered, raw_as_string, **kwargs)\u001b[0m\n\u001b[1;32m    982\u001b[0m             \u001b[0mwrite_timeout\u001b[0m \u001b[0;34m=\u001b[0m \u001b[0mkwargs\u001b[0m\u001b[0;34m.\u001b[0m\u001b[0mget\u001b[0m\u001b[0;34m(\u001b[0m\u001b[0;34m\"write_timeout\"\u001b[0m\u001b[0;34m,\u001b[0m \u001b[0;32mNone\u001b[0m\u001b[0;34m)\u001b[0m\u001b[0;34m\u001b[0m\u001b[0;34m\u001b[0m\u001b[0m\n\u001b[1;32m    983\u001b[0m \u001b[0;34m\u001b[0m\u001b[0m\n\u001b[0;32m--> 984\u001b[0;31m             result = self._handle_result(\n\u001b[0m\u001b[1;32m    985\u001b[0m                 self._send_cmd(\n\u001b[1;32m    986\u001b[0m                     \u001b[0mServerCmd\u001b[0m\u001b[0;34m.\u001b[0m\u001b[0mQUERY\u001b[0m\u001b[0;34m,\u001b[0m\u001b[0;34m\u001b[0m\u001b[0;34m\u001b[0m\u001b[0m\n",
            "\u001b[0;32m/usr/local/lib/python3.11/dist-packages/mysql/connector/_decorating.py\u001b[0m in \u001b[0;36mhandle_cnx_method\u001b[0;34m(cnx, *args, **kwargs)\u001b[0m\n\u001b[1;32m     87\u001b[0m                 \u001b[0;32mif\u001b[0m \u001b[0misinstance\u001b[0m\u001b[0;34m(\u001b[0m\u001b[0merr\u001b[0m\u001b[0;34m,\u001b[0m \u001b[0mTimeoutError\u001b[0m\u001b[0;34m)\u001b[0m\u001b[0;34m:\u001b[0m\u001b[0;34m\u001b[0m\u001b[0;34m\u001b[0m\u001b[0m\n\u001b[1;32m     88\u001b[0m                     \u001b[0mcnx\u001b[0m\u001b[0;34m.\u001b[0m\u001b[0mclose\u001b[0m\u001b[0;34m(\u001b[0m\u001b[0;34m)\u001b[0m\u001b[0;34m\u001b[0m\u001b[0;34m\u001b[0m\u001b[0m\n\u001b[0;32m---> 89\u001b[0;31m                 \u001b[0;32mraise\u001b[0m \u001b[0merr\u001b[0m\u001b[0;34m\u001b[0m\u001b[0;34m\u001b[0m\u001b[0m\n\u001b[0m\u001b[1;32m     90\u001b[0m \u001b[0;34m\u001b[0m\u001b[0m\n\u001b[1;32m     91\u001b[0m         \u001b[0;32mreturn\u001b[0m \u001b[0mhandle_cnx_method\u001b[0m\u001b[0;34m\u001b[0m\u001b[0;34m\u001b[0m\u001b[0m\n",
            "\u001b[0;32m/usr/local/lib/python3.11/dist-packages/mysql/connector/_decorating.py\u001b[0m in \u001b[0;36mhandle_cnx_method\u001b[0;34m(cnx, *args, **kwargs)\u001b[0m\n\u001b[1;32m     83\u001b[0m         ) -> Any:\n\u001b[1;32m     84\u001b[0m             \u001b[0;32mtry\u001b[0m\u001b[0;34m:\u001b[0m\u001b[0;34m\u001b[0m\u001b[0;34m\u001b[0m\u001b[0m\n\u001b[0;32m---> 85\u001b[0;31m                 \u001b[0;32mreturn\u001b[0m \u001b[0mcnx_method\u001b[0m\u001b[0;34m(\u001b[0m\u001b[0mcnx\u001b[0m\u001b[0;34m,\u001b[0m \u001b[0;34m*\u001b[0m\u001b[0margs\u001b[0m\u001b[0;34m,\u001b[0m \u001b[0;34m**\u001b[0m\u001b[0mkwargs\u001b[0m\u001b[0;34m)\u001b[0m\u001b[0;34m\u001b[0m\u001b[0;34m\u001b[0m\u001b[0m\n\u001b[0m\u001b[1;32m     86\u001b[0m             \u001b[0;32mexcept\u001b[0m \u001b[0mException\u001b[0m \u001b[0;32mas\u001b[0m \u001b[0merr\u001b[0m\u001b[0;34m:\u001b[0m\u001b[0;34m\u001b[0m\u001b[0;34m\u001b[0m\u001b[0m\n\u001b[1;32m     87\u001b[0m                 \u001b[0;32mif\u001b[0m \u001b[0misinstance\u001b[0m\u001b[0;34m(\u001b[0m\u001b[0merr\u001b[0m\u001b[0;34m,\u001b[0m \u001b[0mTimeoutError\u001b[0m\u001b[0;34m)\u001b[0m\u001b[0;34m:\u001b[0m\u001b[0;34m\u001b[0m\u001b[0;34m\u001b[0m\u001b[0m\n",
            "\u001b[0;32m/usr/local/lib/python3.11/dist-packages/mysql/connector/connection.py\u001b[0m in \u001b[0;36m_handle_result\u001b[0;34m(self, packet, read_timeout, write_timeout)\u001b[0m\n\u001b[1;32m    743\u001b[0m             \u001b[0;32mreturn\u001b[0m \u001b[0mself\u001b[0m\u001b[0;34m.\u001b[0m\u001b[0m_handle_eof\u001b[0m\u001b[0;34m(\u001b[0m\u001b[0mpacket\u001b[0m\u001b[0;34m)\u001b[0m\u001b[0;34m\u001b[0m\u001b[0;34m\u001b[0m\u001b[0m\n\u001b[1;32m    744\u001b[0m         \u001b[0;32mif\u001b[0m \u001b[0mpacket\u001b[0m\u001b[0;34m[\u001b[0m\u001b[0;36m4\u001b[0m\u001b[0;34m]\u001b[0m \u001b[0;34m==\u001b[0m \u001b[0mERR_STATUS\u001b[0m\u001b[0;34m:\u001b[0m\u001b[0;34m\u001b[0m\u001b[0;34m\u001b[0m\u001b[0m\n\u001b[0;32m--> 745\u001b[0;31m             \u001b[0;32mraise\u001b[0m \u001b[0mget_exception\u001b[0m\u001b[0;34m(\u001b[0m\u001b[0mpacket\u001b[0m\u001b[0;34m)\u001b[0m\u001b[0;34m\u001b[0m\u001b[0;34m\u001b[0m\u001b[0m\n\u001b[0m\u001b[1;32m    746\u001b[0m \u001b[0;34m\u001b[0m\u001b[0m\n\u001b[1;32m    747\u001b[0m         \u001b[0;31m# We have a text result set\u001b[0m\u001b[0;34m\u001b[0m\u001b[0;34m\u001b[0m\u001b[0m\n",
            "\u001b[0;31mIntegrityError\u001b[0m: 1062 (23000): Duplicate entry 'Silver' for key 'Grade_Info.PRIMARY'"
          ]
        }
      ]
    },
    {
      "cell_type": "code",
      "source": [
        "\n",
        "# Grade_Info 테이블의 Grade를 참조하는 외래키 생성\n",
        "# cursor.execute(\n",
        "#     \"\"\"\n",
        "#     ALTER TABLE Customer\n",
        "#     ADD CONSTRAINT fk_customer_grade\n",
        "#     FOREIGN KEY (Grade)\n",
        "#     REFERENCES Grade_Info(Grade);\n",
        "#     \"\"\"\n",
        "# )\n",
        "\n",
        "# 1. Customer와 Grade_Info table 연결하기\n",
        "\n",
        "select_query = \"\"\"\n",
        "  SELECT *\n",
        "  FROM Customer AS C\n",
        "  JOIN Grade_Info AS J\n",
        "  ON C.Grade = J.Grade\n",
        "  ORDER BY DiscountRate ASC\n",
        "\"\"\"\n",
        "\n",
        "cursor.execute(select_query)\n",
        "\n",
        "rows = cursor.fetchall()\n",
        "columns = [desc[0] for desc in cursor.description]\n",
        "print(tabulate(rows, headers=columns, tablefmt=\"psql\"))"
      ],
      "metadata": {
        "colab": {
          "base_uri": "https://localhost:8080/"
        },
        "id": "ZSFngbrAbjML",
        "outputId": "b272776f-8805-4707-a861-14e2298df919"
      },
      "execution_count": null,
      "outputs": [
        {
          "output_type": "stream",
          "name": "stdout",
          "text": [
            "+--------------+----------------+-------+---------+-----------+----------+---------+----------------+\n",
            "| CustomerID   | CustomerName   |   Age | Grade   | Job       |   Points | Grade   |   DiscountRate |\n",
            "|--------------+----------------+-------+---------+-----------+----------+---------+----------------|\n",
            "| C001         | Alice          |    30 | Silver  | Engineer  |     2200 | Silver  |             10 |\n",
            "| C002         | Bob            |    28 | Silver  | Designer  |        0 | Silver  |             10 |\n",
            "| C006         | Yoon           |    21 | Silver  | Engineer  |     3000 | Silver  |             10 |\n",
            "| C005         | Lee            |    45 | Gold    | Engineer  |     4600 | Gold    |             20 |\n",
            "| C007         | Park           |       | Gold    | Artist    |     1200 | Gold    |             20 |\n",
            "| C003         | Park           |    21 | VIP     | Developer |     2400 | VIP     |             30 |\n",
            "| C004         | Kim            |    25 | VIP     | Designer  |     6000 | VIP     |             30 |\n",
            "+--------------+----------------+-------+---------+-----------+----------+---------+----------------+\n"
          ]
        }
      ]
    }
  ]
}