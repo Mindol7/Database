{
  "nbformat": 4,
  "nbformat_minor": 0,
  "metadata": {
    "colab": {
      "provenance": []
    },
    "kernelspec": {
      "name": "python3",
      "display_name": "Python 3"
    },
    "language_info": {
      "name": "python"
    }
  },
  "cells": [
    {
      "cell_type": "code",
      "execution_count": null,
      "metadata": {
        "colab": {
          "base_uri": "https://localhost:8080/"
        },
        "id": "mHjzmqqPLVyD",
        "outputId": "f89b4ac9-ddb4-4a41-b65e-0167c7c5d8fb"
      },
      "outputs": [
        {
          "output_type": "stream",
          "name": "stdout",
          "text": [
            "\r0% [Working]\r            \rHit:1 https://cloud.r-project.org/bin/linux/ubuntu jammy-cran40/ InRelease\n",
            "\r0% [Connecting to archive.ubuntu.com (185.125.190.83)] [Waiting for headers] [C\r                                                                               \rHit:2 https://developer.download.nvidia.com/compute/cuda/repos/ubuntu2204/x86_64  InRelease\n",
            "\r0% [Waiting for headers] [Waiting for headers] [Waiting for headers] [Connected\r                                                                               \rGet:3 http://security.ubuntu.com/ubuntu jammy-security InRelease [129 kB]\n",
            "\r0% [Waiting for headers] [3 InRelease 14.2 kB/129 kB 11%] [Waiting for headers]\r                                                                               \rHit:4 https://r2u.stat.illinois.edu/ubuntu jammy InRelease\n",
            "Hit:5 http://archive.ubuntu.com/ubuntu jammy InRelease\n",
            "Get:6 http://archive.ubuntu.com/ubuntu jammy-updates InRelease [128 kB]\n",
            "Hit:7 https://ppa.launchpadcontent.net/deadsnakes/ppa/ubuntu jammy InRelease\n",
            "Hit:8 http://archive.ubuntu.com/ubuntu jammy-backports InRelease\n",
            "Hit:9 https://ppa.launchpadcontent.net/graphics-drivers/ppa/ubuntu jammy InRelease\n",
            "Hit:10 https://ppa.launchpadcontent.net/ubuntugis/ppa/ubuntu jammy InRelease\n",
            "Fetched 257 kB in 2s (131 kB/s)\n",
            "Reading package lists... Done\n",
            "W: Skipping acquire of configured file 'main/source/Sources' as repository 'https://r2u.stat.illinois.edu/ubuntu jammy InRelease' does not seem to provide it (sources.list entry misspelt?)\n",
            "Reading package lists... Done\n",
            "Building dependency tree... Done\n",
            "Reading state information... Done\n",
            "mysql-server is already the newest version (8.0.42-0ubuntu0.22.04.1).\n",
            "0 upgraded, 0 newly installed, 0 to remove and 47 not upgraded.\n"
          ]
        }
      ],
      "source": [
        "# STEP 1) Install MySQL Server\n",
        "\n",
        "!apt-get update\n",
        "!apt-get install mysql-server -y"
      ]
    },
    {
      "cell_type": "code",
      "source": [
        "# STEP 2: Start MySQL Server\n",
        "!service mysql start"
      ],
      "metadata": {
        "colab": {
          "base_uri": "https://localhost:8080/"
        },
        "id": "4CromXvKL1cn",
        "outputId": "bb61e5b8-c32d-4e13-8997-7c8441bd2164"
      },
      "execution_count": null,
      "outputs": [
        {
          "output_type": "stream",
          "name": "stdout",
          "text": [
            " * Starting MySQL database server mysqld\n",
            "   ...done.\n"
          ]
        }
      ]
    },
    {
      "cell_type": "code",
      "source": [
        "# STEP 3: Set the Root Passwrod\n",
        "\n",
        "!sudo mysql -e \"ALTER USER 'root'@'localhost' IDENTIFIED WITH mysql_native_password BY ''; FLUSH PRIVILEGES;\""
      ],
      "metadata": {
        "id": "lsrid_4YNJfO"
      },
      "execution_count": null,
      "outputs": []
    },
    {
      "cell_type": "code",
      "source": [
        "# STEP 4: Install Python MySQL Connector\n",
        "\n",
        "!pip install mysql-connector-python"
      ],
      "metadata": {
        "colab": {
          "base_uri": "https://localhost:8080/"
        },
        "id": "4hK5g9giNmWU",
        "outputId": "44df42b4-057c-4ebd-b40d-6d8da02ee18a"
      },
      "execution_count": null,
      "outputs": [
        {
          "output_type": "stream",
          "name": "stdout",
          "text": [
            "Requirement already satisfied: mysql-connector-python in /usr/local/lib/python3.11/dist-packages (9.3.0)\n"
          ]
        }
      ]
    },
    {
      "cell_type": "code",
      "source": [
        "# STEP 5: Connect and Use MySQL in Python\n",
        "import mysql.connector\n",
        "\n",
        "# Connect to MySQL Server\n",
        "conn = mysql.connector.connect(\n",
        "    host = 'localhost',\n",
        "    user = 'root',\n",
        "    password = ''\n",
        ")\n",
        "\n",
        "cursor = conn.cursor()\n",
        "\n",
        "# Create Database\n",
        "cursor.execute(\"CREATE DATABASE IF NOT EXISTS testdb\")\n",
        "cursor.execute(\"USE testdb\")"
      ],
      "metadata": {
        "id": "BmAHTdclN3pq"
      },
      "execution_count": null,
      "outputs": []
    },
    {
      "cell_type": "code",
      "source": [
        "# Example-1: Writing a CREATE Table Statement for a Customer Table\n",
        "# Drop the table if it already exists (for repeatable testing)\n",
        "\n",
        "cursor.execute(\"DROP TABLE IF EXISTS Customer\")\n",
        "\n",
        "create_table_query=\"\"\"\n",
        "CREATE TABLE Customer (\n",
        "  CustomerID VARCHAR(20) NOT NULL,\n",
        "  CustomerName VARCHAR(10) NOT NULL,\n",
        "  AGE INT,\n",
        "  Grade VARCHAR(10) NOT NULL,\n",
        "  Job VARCHAR(20),\n",
        "  Points INT DEFAULT 0,\n",
        "  PRIMARY KEY (CustomerID)\n",
        ");\n",
        "\"\"\"\n",
        "\n",
        "cursor.execute(create_table_query)\n",
        "print(\"Customer table created.\")"
      ],
      "metadata": {
        "colab": {
          "base_uri": "https://localhost:8080/"
        },
        "id": "1wfFp6IrPZ0r",
        "outputId": "d163d877-8008-4bea-ee21-2b33cace776c"
      },
      "execution_count": null,
      "outputs": [
        {
          "output_type": "stream",
          "name": "stdout",
          "text": [
            "Customer table created.\n"
          ]
        }
      ]
    },
    {
      "cell_type": "code",
      "source": [
        "# Check the structure of the created table, Customer\n",
        "\n",
        "cursor.execute(\"DESCRIBE Customer\")\n",
        "columns = cursor.fetchall()\n",
        "\n",
        "print(\"\\nStructure of 'Customer' Table:\")\n",
        "for column in columns:\n",
        "  print(column)\n",
        "\n",
        "# Check the created table, Customer\n",
        "\n",
        "cursor.execute(\"SHOW TABLES\")\n",
        "tables = cursor.fetchall()\n",
        "\n",
        "print(\"\\nList of Tables in the Database:\")\n",
        "for table in tables:\n",
        "  print(table[0])"
      ],
      "metadata": {
        "colab": {
          "base_uri": "https://localhost:8080/"
        },
        "id": "iL5o1T-WRoJ8",
        "outputId": "979d6cba-21f8-408b-8796-9e3d43ceff91"
      },
      "execution_count": null,
      "outputs": [
        {
          "output_type": "stream",
          "name": "stdout",
          "text": [
            "\n",
            "Structure of 'Customer' Table:\n",
            "('CustomerID', 'varchar(20)', 'NO', 'PRI', None, '')\n",
            "('CustomerName', 'varchar(10)', 'NO', '', None, '')\n",
            "('AGE', 'int', 'YES', '', None, '')\n",
            "('Grade', 'varchar(10)', 'NO', '', None, '')\n",
            "('Job', 'varchar(20)', 'YES', '', None, '')\n",
            "('Points', 'int', 'YES', '', '0', '')\n",
            "\n",
            "List of Tables in the Database:\n",
            "Customer\n",
            "Grade_Info\n",
            "Old_Customer\n"
          ]
        }
      ]
    },
    {
      "cell_type": "markdown",
      "source": [
        "# Example-3: Adding a New Column\n",
        "- ALTER TABLE table_name'\n",
        "- ADD column_name data_type [NOT NULL] [DEFAULT default_value]"
      ],
      "metadata": {
        "id": "X7CHfuxYWsWg"
      }
    },
    {
      "cell_type": "code",
      "source": [
        "alter_query=\"\"\"\n",
        "ALTER TABLE Customer\n",
        "ADD COLUMN Email VARCHAR(50)\n",
        "\"\"\"\n",
        "\n",
        "cursor.execute(alter_query)\n",
        "print(\"Customer table altered.\")\n",
        "\n",
        "cursor.execute(\"DESCRIBE Customer\")\n",
        "\n",
        "print(\"\\nUpdated Customer Table Structure:\")\n",
        "for row in cursor.fetchall():\n",
        "  print(row)"
      ],
      "metadata": {
        "colab": {
          "base_uri": "https://localhost:8080/"
        },
        "id": "SePb36ogTJAQ",
        "outputId": "a9ddee99-c0f5-43f3-ef70-10a4b68d6bf4"
      },
      "execution_count": null,
      "outputs": [
        {
          "output_type": "stream",
          "name": "stdout",
          "text": [
            "Customer table altered.\n",
            "\n",
            "Updated Customer Table Structure:\n",
            "('CustomerID', 'varchar(20)', 'NO', 'PRI', None, '')\n",
            "('CustomerName', 'varchar(10)', 'NO', '', None, '')\n",
            "('AGE', 'int', 'YES', '', None, '')\n",
            "('Grade', 'varchar(10)', 'NO', '', None, '')\n",
            "('Job', 'varchar(20)', 'YES', '', None, '')\n",
            "('Points', 'int', 'YES', '', '0', '')\n",
            "('Email', 'varchar(50)', 'YES', '', None, '')\n"
          ]
        }
      ]
    },
    {
      "cell_type": "markdown",
      "source": [
        "# Example-4: Dropping an Existing Column\n",
        "- ALTER TABLE table_name\n",
        "- DROP COLUMN column_name;"
      ],
      "metadata": {
        "id": "iLXAsbd-WxjS"
      }
    },
    {
      "cell_type": "code",
      "source": [
        "alter_query=\"\"\"\n",
        "ALTER TABLE Customer\n",
        "DROP COLUMN Email\n",
        "\"\"\"\n",
        "cursor.execute(alter_query)\n",
        "print(\"Customer table droped.\")\n",
        "\n",
        "cursor.execute(\"DESCRIBE Customer\")\n",
        "print(\"\\nUpdated Customer Table Structure:\")\n",
        "\n",
        "for row in cursor.fetchall():\n",
        "  print(row)"
      ],
      "metadata": {
        "colab": {
          "base_uri": "https://localhost:8080/"
        },
        "id": "aRl9JCPJW5DT",
        "outputId": "3faa09f2-e9f8-4a8e-9fb0-8b837234381b"
      },
      "execution_count": null,
      "outputs": [
        {
          "output_type": "stream",
          "name": "stdout",
          "text": [
            "Customer table droped.\n",
            "\n",
            "Updated Customer Table Structure:\n",
            "('CustomerID', 'varchar(20)', 'NO', 'PRI', None, '')\n",
            "('CustomerName', 'varchar(10)', 'NO', '', None, '')\n",
            "('AGE', 'int', 'YES', '', None, '')\n",
            "('Grade', 'varchar(10)', 'NO', '', None, '')\n",
            "('Job', 'varchar(20)', 'YES', '', None, '')\n",
            "('Points', 'int', 'YES', '', '0', '')\n"
          ]
        }
      ]
    },
    {
      "cell_type": "code",
      "source": [
        "alter_query = \"\"\"\n",
        "ALTER TABLE Customer\n",
        "ADD CONSTRAINT check_age CHECK (AGE >= 20);\n",
        "\"\"\"\n",
        "\n",
        "print(\"Customer table constrained\")\n",
        "\n",
        "cursor.execute(\"SHOW CREATE TABLE Customer\")\n",
        "result = cursor.fetchone()\n",
        "\n",
        "print(\"\\n Table Definition:\")\n",
        "print(result[1])"
      ],
      "metadata": {
        "colab": {
          "base_uri": "https://localhost:8080/"
        },
        "id": "JjKZDZ4TX2B_",
        "outputId": "e78d06a8-49a2-4876-cb50-4960b4595062"
      },
      "execution_count": null,
      "outputs": [
        {
          "output_type": "stream",
          "name": "stdout",
          "text": [
            "Customer table constrained\n",
            "\n",
            " Table Definition:\n",
            "CREATE TABLE `Customer` (\n",
            "  `CustomerID` varchar(20) NOT NULL,\n",
            "  `CustomerName` varchar(10) NOT NULL,\n",
            "  `AGE` int DEFAULT NULL,\n",
            "  `Grade` varchar(10) NOT NULL,\n",
            "  `Job` varchar(20) DEFAULT NULL,\n",
            "  `Points` int DEFAULT '0',\n",
            "  PRIMARY KEY (`CustomerID`)\n",
            ") ENGINE=InnoDB DEFAULT CHARSET=utf8mb4 COLLATE=utf8mb4_0900_ai_ci\n"
          ]
        }
      ]
    },
    {
      "cell_type": "code",
      "source": [
        "drop_constraint_query = \"\"\"\n",
        "ALTER TABLE Customer\n",
        "DROP CONSTRAINT check_age;\n",
        "\"\"\"\n",
        "\n",
        "# cursor.execute(drop_constraint_query)"
      ],
      "metadata": {
        "id": "VeeHSFJZYkw4"
      },
      "execution_count": null,
      "outputs": []
    },
    {
      "cell_type": "code",
      "source": [
        "cursor.execute(\"SHOW CREATE TABLE Customer\")\n",
        "result = cursor.fetchone()\n",
        "print(result[1])"
      ],
      "metadata": {
        "colab": {
          "base_uri": "https://localhost:8080/"
        },
        "id": "Dr3LovJwYtHm",
        "outputId": "d6708801-0f5d-44ed-8276-3bfbe3de3678"
      },
      "execution_count": null,
      "outputs": [
        {
          "output_type": "stream",
          "name": "stdout",
          "text": [
            "CREATE TABLE `Customer` (\n",
            "  `CustomerID` varchar(20) NOT NULL,\n",
            "  `CustomerName` varchar(10) NOT NULL,\n",
            "  `AGE` int DEFAULT NULL,\n",
            "  `Grade` varchar(10) NOT NULL,\n",
            "  `Job` varchar(20) DEFAULT NULL,\n",
            "  `Points` int DEFAULT '0',\n",
            "  PRIMARY KEY (`CustomerID`)\n",
            ") ENGINE=InnoDB DEFAULT CHARSET=utf8mb4 COLLATE=utf8mb4_0900_ai_ci\n"
          ]
        }
      ]
    },
    {
      "cell_type": "code",
      "source": [
        "# INSERT INTO VALUES ~ 1\n",
        "\n",
        "insert_query = \"\"\"\n",
        "INSERT\n",
        "INTO Customer (CustomerID, CustomerName, Age, Grade, Job, Points)\n",
        "VALUES (%s, %s, %s, %s, %s, %s);\n",
        "\"\"\"\n",
        "\n",
        "values=('C001', 'Alice', 30, 'Gold', 'Engineer', 1000)\n",
        "cursor.execute(insert_query, values)\n",
        "conn.commit()"
      ],
      "metadata": {
        "id": "mBD-tiv3Z146"
      },
      "execution_count": null,
      "outputs": []
    },
    {
      "cell_type": "code",
      "source": [
        "# INSERT INTO VALUES ~ 2\n",
        "\n",
        "insert_query = \"\"\"\n",
        "INSERT\n",
        "INTO Customer (CustomerID, CustomerName, Age, Grade, Job)\n",
        "VALUES (%s, %s, %s, %s, %s);\n",
        "\"\"\"\n",
        "\n",
        "values= ('C002', 'Bob', 28, 'Silver', 'Designer')\n",
        "cursor.execute(insert_query, values)\n",
        "conn.commit()"
      ],
      "metadata": {
        "id": "Tg7jmf4pbRDg"
      },
      "execution_count": null,
      "outputs": []
    },
    {
      "cell_type": "code",
      "source": [
        "cursor.execute(\"SELECT * FROM Customer\")\n",
        "rows = cursor.fetchall()\n",
        "\n",
        "for row in rows:\n",
        "  print(row)"
      ],
      "metadata": {
        "colab": {
          "base_uri": "https://localhost:8080/"
        },
        "id": "NOPzYe3zbzgG",
        "outputId": "9fb9b151-1561-452d-9d18-1ad2ec9b4736"
      },
      "execution_count": null,
      "outputs": [
        {
          "output_type": "stream",
          "name": "stdout",
          "text": [
            "('C001', 'Alice', 30, 'Gold', 'Engineer', 1000)\n",
            "('C002', 'Bob', 28, 'Silver', 'Designer', 0)\n"
          ]
        }
      ]
    },
    {
      "cell_type": "code",
      "source": [
        "insert_query = \"\"\"\n",
        "INSERT INTO Customer (CustomerID, CustomerName, Age, Grade, Job, Points)\n",
        "VALUES (%s, %s, %s, %s, %s, %s);\n",
        "\"\"\"\n",
        "\n",
        "data = [\n",
        "    ('C003', 'Park', 21, 'VIP', 'Developer', 2000),\n",
        "    ('C004', 'Kim', 25, 'VIP', 'Doctor', 800)\n",
        "]\n",
        "\n",
        "cursor.executemany(insert_query, data)\n",
        "conn.commit()"
      ],
      "metadata": {
        "id": "z2cV6hMicmVp"
      },
      "execution_count": null,
      "outputs": []
    },
    {
      "cell_type": "code",
      "source": [
        "cursor.execute(\"SELECT * FROM Customer\")\n",
        "rows = cursor.fetchall()\n",
        "\n",
        "print(\"\\nCustomer Table Data:\")\n",
        "for row in rows:\n",
        "  print(row)"
      ],
      "metadata": {
        "colab": {
          "base_uri": "https://localhost:8080/"
        },
        "id": "B9xr5mRSdCzc",
        "outputId": "7866765c-4bb7-4642-b757-713f090f0622"
      },
      "execution_count": null,
      "outputs": [
        {
          "output_type": "stream",
          "name": "stdout",
          "text": [
            "\n",
            "Customer Table Data:\n",
            "('C001', 'Alice', 30, 'Gold', 'Engineer', 1000)\n",
            "('C002', 'Bob', 28, 'Silver', 'Designer', 0)\n",
            "('C003', 'Park', 21, 'VIP', 'Developer', 2000)\n",
            "('C004', 'Kim', 25, 'VIP', 'Doctor', 800)\n"
          ]
        }
      ]
    },
    {
      "cell_type": "code",
      "source": [
        "cursor = conn.cursor()\n",
        "\n",
        "\n",
        "cursor.execute(\"DROP TABLE IF EXISTS Old_Customer\")\n",
        "cursor.execute(\"\"\"\n",
        "CREATE TABLE Old_Customer (\n",
        "  CustomerID VARCHAR(20),\n",
        "  CustomerName VARCHAR(20),\n",
        "  AGE INTEGER,\n",
        "  Grade VARCHAR(10),\n",
        "  Job VARCHAR(20),\n",
        "  Points INTEGER\n",
        "  );\n",
        "\"\"\")"
      ],
      "metadata": {
        "id": "WfZ5ne90dWbb"
      },
      "execution_count": null,
      "outputs": []
    },
    {
      "cell_type": "code",
      "source": [
        "insert_old=\"\"\"\n",
        "INSERT INTO Old_Customer (CustomerID, CustomerName, Age, Grade, Job, Points)\n",
        "VALUES (%s, %s, %s, %s, %s, %s);\n",
        "\"\"\"\n",
        "\n",
        "old_data = ('C005', 'LEE', 45, 'Gold', 'Engineer', 3000)\n",
        "cursor.execute(insert_old, old_data)\n",
        "conn.commit()"
      ],
      "metadata": {
        "id": "YoR4T4IpfJ5u"
      },
      "execution_count": null,
      "outputs": []
    },
    {
      "cell_type": "code",
      "source": [
        "cursor.execute(\"SELECT * FROM Old_Customer\")\n",
        "rows = cursor.fetchall()\n",
        "\n",
        "print(\"\\nOld_Customer Table Data:\")\n",
        "for row in rows:\n",
        "  print(row)\n"
      ],
      "metadata": {
        "colab": {
          "base_uri": "https://localhost:8080/"
        },
        "id": "s1pWjYYLfe7O",
        "outputId": "aeecd26f-bd3f-4f5a-c593-ead264a06cfd"
      },
      "execution_count": null,
      "outputs": [
        {
          "output_type": "stream",
          "name": "stdout",
          "text": [
            "\n",
            "Old_Customer Table Data:\n",
            "('C005', 'LEE', 45, 'Gold', 'Engineer', 3000)\n"
          ]
        }
      ]
    },
    {
      "cell_type": "code",
      "source": [
        "subquery = \"\"\"\n",
        "INSERT INTO Customer (CustomerID, CustomerName, Age, Grade, Job, Points)\n",
        "SELECT CustomerID, CustomerName, Age, Grade, Job, Points\n",
        "FROM Old_Customer;\n",
        "\"\"\"\n",
        "\n",
        "cursor.execute(subquery)\n",
        "\n",
        "cursor.execute(\"SELECT * FROM Customer\")\n",
        "rows = cursor.fetchall()\n",
        "\n",
        "print(\"\\nCustomer Table Data:\")\n",
        "for row in rows:\n",
        "  print(row)\n"
      ],
      "metadata": {
        "colab": {
          "base_uri": "https://localhost:8080/"
        },
        "id": "00Ndsd_afIf3",
        "outputId": "b59b02bc-22c8-482a-894b-9cbc347ed4a5"
      },
      "execution_count": null,
      "outputs": [
        {
          "output_type": "stream",
          "name": "stdout",
          "text": [
            "\n",
            "Customer Table Data:\n",
            "('C001', 'Alice', 30, 'Gold', 'Engineer', 1000)\n",
            "('C002', 'Bob', 28, 'Silver', 'Designer', 0)\n",
            "('C003', 'Park', 21, 'VIP', 'Developer', 2000)\n",
            "('C004', 'Kim', 25, 'VIP', 'Doctor', 800)\n",
            "('C005', 'LEE', 45, 'Gold', 'Engineer', 3000)\n"
          ]
        }
      ]
    },
    {
      "cell_type": "code",
      "source": [
        "# Column 보여주는 명령어\n",
        "# col[0]가 column name 부분임\n",
        "\n",
        "cursor.execute(\"SHOW columns in Customer\")\n",
        "columns = [col[0] for col in cursor.fetchall()]\n",
        "\n",
        "print(columns)"
      ],
      "metadata": {
        "colab": {
          "base_uri": "https://localhost:8080/"
        },
        "id": "5KtlicLXdfUx",
        "outputId": "d0b0923e-5285-482c-d992-e8e375734f2e"
      },
      "execution_count": null,
      "outputs": [
        {
          "output_type": "stream",
          "name": "stdout",
          "text": [
            "['CustomerID', 'CustomerName', 'AGE', 'Grade', 'Job', 'Points']\n"
          ]
        }
      ]
    },
    {
      "cell_type": "code",
      "source": [
        "# UPDATE Statement\n",
        "\"\"\"\n",
        "UPDATE table_name\n",
        "SET column1 = value1, column2 = value2, ...\n",
        "[WHERE condition];\n",
        "\"\"\"\n",
        "\n",
        "# Example-11: UPDATE Statement\n",
        "# CustomerID가 'C001'인 row를 grade가 gold에서 silver로 업데이트\n",
        "\n",
        "update_query = \"\"\"\n",
        " UPDATE Customer\n",
        " SET Grade = 'Silver'\n",
        " WHERE CustomerID = 'C001';\n",
        "\"\"\"\n",
        "\n",
        "cursor.execute(update_query)\n",
        "\n",
        "cursor.execute(\"SELECT * FROM Customer\")\n",
        "rows = cursor.fetchall()\n",
        "\n",
        "print(\"\\nCustomer Table Data: \")\n",
        "for row in rows:\n",
        "  print(row)"
      ],
      "metadata": {
        "colab": {
          "base_uri": "https://localhost:8080/"
        },
        "id": "8xZlyqVhcF0V",
        "outputId": "e9e375bf-0e18-4e96-d13f-da73231bee09"
      },
      "execution_count": null,
      "outputs": [
        {
          "output_type": "stream",
          "name": "stdout",
          "text": [
            "\n",
            "Customer Table Data: \n",
            "('C001', 'Alice', 30, 'Silver', 'Engineer', 1000)\n",
            "('C002', 'Bob', 28, 'Silver', 'Designer', 0)\n",
            "('C003', 'Park', 21, 'VIP', 'Developer', 2000)\n",
            "('C004', 'Kim', 25, 'VIP', 'Doctor', 800)\n",
            "('C005', 'LEE', 45, 'Gold', 'Engineer', 3000)\n"
          ]
        }
      ]
    },
    {
      "cell_type": "code",
      "source": [
        "# Example-12\n",
        "# 모든 customer의 points를 20% increase 할 것\n",
        "\n",
        "update_query = \"\"\"\n",
        " UPDATE Customer\n",
        " SET Points = Points * 1.2\n",
        "\"\"\"\n",
        "\n",
        "cursor.execute(update_query)\n",
        "\n",
        "cursor.execute(\"SELECT * FROM Customer\")\n",
        "rows = cursor.fetchall()\n",
        "\n",
        "print(\"\\nCustomer Table Data: \")\n",
        "for row in rows:\n",
        "  print(row)"
      ],
      "metadata": {
        "colab": {
          "base_uri": "https://localhost:8080/"
        },
        "id": "wNI1wjvsdjNN",
        "outputId": "a0b1f927-ccc5-4d3f-ffc5-7bfcfdceb2b0"
      },
      "execution_count": null,
      "outputs": [
        {
          "output_type": "stream",
          "name": "stdout",
          "text": [
            "\n",
            "Customer Table Data: \n",
            "('C001', 'Alice', 30, 'Silver', 'Engineer', 1200)\n",
            "('C002', 'Bob', 28, 'Silver', 'Designer', 0)\n",
            "('C003', 'Park', 21, 'VIP', 'Developer', 2400)\n",
            "('C004', 'Kim', 25, 'VIP', 'Doctor', 960)\n",
            "('C005', 'LEE', 45, 'Gold', 'Engineer', 3600)\n"
          ]
        }
      ]
    },
    {
      "cell_type": "code",
      "source": [
        "# DELETE Statement\n",
        "\"\"\"\n",
        "DELETE\n",
        "FROM table_name\n",
        "[WHERE_ condition];\n",
        "\"\"\"\n",
        "\n",
        "# Example-14\n",
        "# Kim, Park, Yoon 행 추가하기\n",
        "insert_query = \"\"\"\n",
        " INSERT\n",
        " INTO Customer (CustomerID, CustomerName, Age, Grade, Job, Points)\n",
        " VALUES (%s, %s, %s, %s, %s, %s)\n",
        "\"\"\"\n",
        "\n",
        "value1 = ('C006', 'Kim', 22, 'Silver', 'Artist', 1500)\n",
        "cursor.execute(insert_query, value1)\n",
        "conn.commit()\n",
        "value1 = ('C007', 'Park', 50, 'VIP', 'Artist', 7000)\n",
        "cursor.execute(insert_query, value1)\n",
        "conn.commit()\n",
        "value1 = ('C008', 'Yoon', 60, 'VIP', 'Artist', 10000)\n",
        "cursor.execute(insert_query, value1)\n",
        "conn.commit()\n",
        "\n",
        "cursor.execute(\"SELECT * FROM Customer\")\n",
        "rows = cursor.fetchall()\n",
        "\n",
        "for row in rows:\n",
        "  print(row)"
      ],
      "metadata": {
        "colab": {
          "base_uri": "https://localhost:8080/"
        },
        "id": "HVIeS14ilNK8",
        "outputId": "4a6c5538-1542-41cc-eab4-1452389e2906"
      },
      "execution_count": null,
      "outputs": [
        {
          "output_type": "stream",
          "name": "stdout",
          "text": [
            "('C001', 'Alice', 30, 'Silver', 'Engineer', 1200)\n",
            "('C002', 'Bob', 28, 'Silver', 'Designer', 0)\n",
            "('C003', 'Park', 21, 'VIP', 'Developer', 2400)\n",
            "('C004', 'Kim', 25, 'VIP', 'Doctor', 960)\n",
            "('C005', 'LEE', 45, 'Gold', 'Engineer', 3600)\n",
            "('C006', 'Kim', 22, 'Silver', 'Artist', 1500)\n",
            "('C007', 'Park', 50, 'VIP', 'Artist', 7000)\n",
            "('C008', 'Yoon', 60, 'VIP', 'Artist', 10000)\n"
          ]
        }
      ]
    },
    {
      "cell_type": "code",
      "source": [
        "# Example-15\n",
        "# subquery 사용해서 Job이 Artist인 사람 삭제하기\n",
        "\n",
        "delete_query = \"\"\"\n",
        " DELETE\n",
        " FROM Customer\n",
        " WHERE\n",
        "\"\"\"\n",
        "\n",
        "cursor.execute(\"SELECT * FROM Customer\")\n",
        "rows = cursor.fetchall()\n",
        "\n",
        "for row in rows:\n",
        "  print(row)"
      ],
      "metadata": {
        "colab": {
          "base_uri": "https://localhost:8080/"
        },
        "id": "9svLSLS7vFqf",
        "outputId": "767978b5-d68d-4774-a9e5-07690b48b0f4"
      },
      "execution_count": null,
      "outputs": [
        {
          "output_type": "stream",
          "name": "stdout",
          "text": [
            "('C001', 'Alice', 30, 'Silver', 'Engineer', 1200)\n",
            "('C002', 'Bob', 28, 'Silver', 'Designer', 0)\n",
            "('C003', 'Park', 21, 'VIP', 'Developer', 2400)\n",
            "('C004', 'Kim', 25, 'VIP', 'Doctor', 960)\n",
            "('C005', 'LEE', 45, 'Gold', 'Engineer', 3600)\n",
            "('C006', 'Kim', 22, 'Silver', 'Artist', 1500)\n",
            "('C007', 'Park', 50, 'VIP', 'Artist', 7000)\n",
            "('C008', 'Yoon', 60, 'VIP', 'Artist', 10000)\n"
          ]
        }
      ]
    },
    {
      "cell_type": "code",
      "source": [
        "# # DELETE Statement\n",
        "# \"\"\"\n",
        "# DELETE FROM table name\n",
        "# [WHERE condition];\n",
        "# \"\"\"\n",
        "\n",
        "# insert_query = \"\"\"\n",
        "# INSERT\n",
        "# INTO Customer (CustomerID, CustomerName, Age, Grade, Job, Points)\n",
        "# VALUES (%s, %s, %s, %s, %s, %s);\n",
        "# \"\"\"\n",
        "# values = ('C006', 'Kim', 22, 'Silver', 'Artist', 1500)\n",
        "# cursor.execute(insert_query, values)\n",
        "# conn.commit()\n",
        "# values_2 = ('C007', 'Park', 50, 'VIP', 'Artist', 7000)\n",
        "# cursor.execute(insert_query, values_2)\n",
        "# conn.commit()\n",
        "# values_3 = ('C008', 'Yoon', 60, 'VIP', 'Artist', 10000)\n",
        "# cursor.execute(insert_query, values_3)\n",
        "# conn.commit()\n",
        "\n",
        "# cursor.execute(\"SELECT * FROM Customer\")\n",
        "# rows = cursor.fetchall()\n",
        "\n",
        "# print(\"\\nCustomer Table Data:\")\n",
        "# for row in rows:\n",
        "#   print(row)\n",
        "\n",
        "\n"
      ],
      "metadata": {
        "id": "RGTCc5WOh-NQ"
      },
      "execution_count": null,
      "outputs": []
    },
    {
      "cell_type": "code",
      "source": [
        "\n",
        "delete_query = \"\"\"\n",
        "DELETE FROM Customer\n",
        "WHERE CustomerID IN (\n",
        "  SELECT * FROM (\n",
        "  SELECT CustomerID\n",
        "  FROM Customer\n",
        "  WHERE Job = 'Artist'\n",
        "  ) AS temp_sub\n",
        ");\n",
        "\"\"\"\n",
        "\n",
        "cursor.execute(delete_query)\n",
        "_ = cursor.fetchall()\n",
        "cursor.execute(\"SELECT * FROM Customer\")\n",
        "rows = cursor.fetchall()\n",
        "\n",
        "print(\"\\nCustomer Table Data:\")\n",
        "for row in rows:\n",
        "  print(row)"
      ],
      "metadata": {
        "colab": {
          "base_uri": "https://localhost:8080/"
        },
        "id": "smiW773dj9a9",
        "outputId": "190f4c5d-b9ea-496b-9fb9-95d1b71434a9"
      },
      "execution_count": null,
      "outputs": [
        {
          "output_type": "stream",
          "name": "stdout",
          "text": [
            "\n",
            "Customer Table Data:\n",
            "('C001', 'Alice', 30, 'Silver', 'Engineer', 1200)\n",
            "('C002', 'Bob', 28, 'Silver', 'Designer', 0)\n",
            "('C003', 'Park', 21, 'VIP', 'Developer', 2400)\n",
            "('C004', 'Kim', 25, 'VIP', 'Doctor', 960)\n",
            "('C005', 'LEE', 45, 'Gold', 'Engineer', 3600)\n"
          ]
        }
      ]
    },
    {
      "cell_type": "code",
      "source": [
        "# # Example-15: DELETE Statement using a subquery\n",
        "\n",
        "# delete_query = \"\"\"\n",
        "# DELETE FROM Customer\n",
        "# WHERE CustomerID IN (\n",
        "#   SELECT * FROM (\n",
        "#   SELECT CustomerID\n",
        "#   FROM Customer\n",
        "#   WHERE Job = 'Artist'\n",
        "#   )\n",
        "# );\n",
        "\n",
        "# \"\"\"\n",
        "# cursor.execute(delete_query)\n",
        "# conn.commit()\n",
        "# cursor.execute(\"SELECT * FROM Customer\")\n",
        "# rows = cursor.fetchall()\n",
        "\n",
        "# print(\"\\nCustomer Table Data:\")\n",
        "# for row in rows:\n",
        "#   print(row)"
      ],
      "metadata": {
        "id": "PfqhjAIfkHfB"
      },
      "execution_count": null,
      "outputs": []
    },
    {
      "cell_type": "code",
      "source": [
        "# SELECT STATEMENT\n",
        "\"\"\"\n",
        "SELECT [**ALL** | **DISTINCT**] column_list\n",
        "FROM table_list;\n",
        "\"\"\"\n",
        "\n",
        "# Example-16\n",
        "# CustomerID, CustomerName, Grade를 Customer 테이블에서 가져오기\n",
        "# Customer의 모든 column을 테이블에서 가져오기\n",
        "\n",
        "select_query = \"\"\"\n",
        "SELECT CustomerID, CustomerName, Grade\n",
        "FROM Customer\n",
        "\"\"\"\n",
        "\n",
        "cursor.execute(select_query)\n",
        "\n",
        "_ = cursor.fetchall()\n",
        "for row in _:\n",
        "  print(row)\n",
        "cursor.execute(\"SELECT * FROM Customer\")\n",
        "rows = cursor.fetchall()\n",
        "\n",
        "\n",
        "for row in rows:\n",
        "  print(row)\n"
      ],
      "metadata": {
        "colab": {
          "base_uri": "https://localhost:8080/"
        },
        "id": "rWfIX06tkbbV",
        "outputId": "2748fe78-1a81-435f-9b6e-e7bd0fb7e12b"
      },
      "execution_count": null,
      "outputs": [
        {
          "output_type": "stream",
          "name": "stdout",
          "text": [
            "('C001', 'Alice', 'Silver')\n",
            "('C002', 'Bob', 'Silver')\n",
            "('C003', 'Park', 'VIP')\n",
            "('C004', 'Kim', 'VIP')\n",
            "('C005', 'LEE', 'Gold')\n",
            "('C001', 'Alice', 30, 'Silver', 'Engineer', 1200)\n",
            "('C002', 'Bob', 28, 'Silver', 'Designer', 0)\n",
            "('C003', 'Park', 21, 'VIP', 'Developer', 2400)\n",
            "('C004', 'Kim', 25, 'VIP', 'Doctor', 960)\n",
            "('C005', 'LEE', 45, 'Gold', 'Engineer', 3600)\n"
          ]
        }
      ]
    },
    {
      "cell_type": "code",
      "source": [
        "# Example-17\n",
        "# 1. customer name과 jobs을 가져오기\n",
        "# 2. customer name과 jobs를 ALL 키워드를 통해 가져오기\n",
        "# 3. job을 DISTINCT로 unique하게 가져오기\n",
        "\n",
        "first_select_query = \"\"\"\n",
        " SELECT CustomerName, Job\n",
        " FROM Customer\n",
        "\"\"\"\n",
        "\n",
        "cursor.execute(first_select_query)\n",
        "\n",
        "rows = cursor.fetchall()\n",
        "\n",
        "for row in rows:\n",
        "  print(row)\n",
        "\n",
        "second_select_query = \"\"\"\n",
        " SELECT ALL CustomerName, Job\n",
        " FROM Customer\n",
        "\"\"\"\n",
        "\n",
        "cursor.execute(second_select_query)\n",
        "\n",
        "rows = cursor.fetchall()\n",
        "\n",
        "for row in rows:\n",
        "  print(row)\n",
        "\n",
        "third_select_query = \"\"\"\n",
        " SELECT DISTINCT Job\n",
        " FROM Customer;\n",
        "\"\"\"\n",
        "\n",
        "cursor.execute(third_select_query)\n",
        "\n",
        "rows = cursor.fetchall()\n",
        "\n",
        "for row in rows:\n",
        "  print(row)"
      ],
      "metadata": {
        "colab": {
          "base_uri": "https://localhost:8080/"
        },
        "id": "djJGg5S9nLvZ",
        "outputId": "fcf71cd7-d16c-4244-e3af-949ccae5f5f3"
      },
      "execution_count": null,
      "outputs": [
        {
          "output_type": "stream",
          "name": "stdout",
          "text": [
            "('Alice', 'Engineer')\n",
            "('Bob', 'Designer')\n",
            "('Park', 'Developer')\n",
            "('Kim', 'Doctor')\n",
            "('LEE', 'Engineer')\n",
            "('Alice', 'Engineer')\n",
            "('Bob', 'Designer')\n",
            "('Park', 'Developer')\n",
            "('Kim', 'Doctor')\n",
            "('LEE', 'Engineer')\n",
            "('Engineer',)\n",
            "('Designer',)\n",
            "('Developer',)\n",
            "('Doctor',)\n"
          ]
        }
      ]
    },
    {
      "cell_type": "code",
      "source": [
        "# STATE Statement: Renaming Columns Using AS\n",
        "\"\"\"\n",
        "SELECT column_name **AS** alias_name\n",
        "FROM table_name;\n",
        "\"\"\"\n",
        "\n",
        "# Example-18\n",
        "# CustomerName을 Name으로 column name을 변경하기\n",
        "\n",
        "select_query = \"\"\"\n",
        " SELECT CustomerName AS Name\n",
        " FROM Customer\n",
        "\"\"\"\n",
        "\n",
        "cursor.execute(select_query)\n",
        "\n",
        "rows = cursor.fetchall()\n",
        "\n",
        "# Renaming된 column 명을 확인하기 위한 코드\n",
        "print([desc[0] for desc in cursor.description])\n",
        "\n",
        "cursor.execute(\"SHOW columns in Customer\")\n",
        "columns = [col[0] for col in cursor.fetchall()]\n",
        "\n",
        "print(columns)\n"
      ],
      "metadata": {
        "colab": {
          "base_uri": "https://localhost:8080/"
        },
        "id": "7FmdY7URoSLv",
        "outputId": "9ee67cef-b539-46d2-9b54-3f469db1f894"
      },
      "execution_count": null,
      "outputs": [
        {
          "output_type": "stream",
          "name": "stdout",
          "text": [
            "['Name']\n",
            "['CustomerID', 'CustomerName', 'AGE', 'Grade', 'Job', 'Points']\n"
          ]
        }
      ]
    },
    {
      "cell_type": "code",
      "source": [
        "# SELECT Statement\n",
        "# Using Arithmetic Expressions in Queries\n",
        "\n",
        "# +,-,*,/,상수로 산술 연산 가능\n",
        "# Result Table에서만 보이고 실제로 update는 아님\n",
        "\n",
        "# Example-19\n",
        "# CustomerName, Points + 1000을 해서 결과 보이기\n",
        "\n",
        "from tabulate import tabulate\n",
        "\n",
        "select_query = \"\"\"\n",
        " SELECT CustomerName, Points+1000 AS Score\n",
        " FROM Customer;\n",
        "\"\"\"\n",
        "\n",
        "cursor.execute(select_query)\n",
        "\n",
        "rows = cursor.fetchall()\n",
        "\n",
        "columns = [desc[0] for desc in cursor.description]\n",
        "\n",
        "\n",
        "print(tabulate(rows, headers=columns, tablefmt=\"psql\"))"
      ],
      "metadata": {
        "colab": {
          "base_uri": "https://localhost:8080/"
        },
        "id": "ew-xFUnlqsns",
        "outputId": "fe8cc2ff-ea68-4780-8983-00b5378f64d3"
      },
      "execution_count": null,
      "outputs": [
        {
          "output_type": "stream",
          "name": "stdout",
          "text": [
            "+----------------+---------+\n",
            "| CustomerName   |   Score |\n",
            "|----------------+---------|\n",
            "| Alice          |    2200 |\n",
            "| Bob            |    1000 |\n",
            "| Park           |    3400 |\n",
            "| Kim            |    1960 |\n",
            "| LEE            |    4600 |\n",
            "+----------------+---------+\n"
          ]
        }
      ]
    },
    {
      "cell_type": "code",
      "source": [
        "# Example-20\n",
        "# Conditional Query\n",
        "\n",
        "# 1.4000보다 큰 Points 조건에서 ID,Name, Age 가져오기\n",
        "# 2. Grade가 VIP 또는 Points가 4000보다 크거나 같은 customers 가져오기\n",
        "# 3. Points가 2000과 4000 사이에 있는 customers 가져오기\n",
        "\n",
        "first_select_query = \"\"\"\n",
        " SELECT CustomerID, CustomerName AS Name, Age\n",
        " FROM Customer\n",
        " WHERE Points > 2000\n",
        "\"\"\"\n",
        "\n",
        "cursor.execute(first_select_query)\n",
        "rows = cursor.fetchall()\n",
        "\n",
        "columns = [desc[0] for desc in cursor.description]\n",
        "\n",
        "print(tabulate(rows, headers=columns, tablefmt='psql'))\n",
        "\n",
        "second_select_query = \"\"\"\n",
        " SELECT * FROM Customer\n",
        " WHERE Grade = 'VIP' OR Points >= 2000\n",
        "\"\"\"\n",
        "\n",
        "cursor.execute(second_select_query)\n",
        "rows = cursor.fetchall()\n",
        "\n",
        "columns = [desc[0] for desc in cursor.description]\n",
        "\n",
        "print(tabulate(rows, headers=columns, tablefmt='psql'))\n",
        "\n",
        "third_select_query = \"\"\"\n",
        " SELECT * FROM Customer\n",
        " WHERE 2000 < Points AND Points < 4000\n",
        "\"\"\"\n",
        "\n",
        "cursor.execute(third_select_query)\n",
        "rows = cursor.fetchall()\n",
        "\n",
        "columns = [desc[0] for desc in cursor.description]\n",
        "\n",
        "print(tabulate(rows, headers=columns, tablefmt='psql'))\n"
      ],
      "metadata": {
        "colab": {
          "base_uri": "https://localhost:8080/"
        },
        "id": "pdrKsvUmtBhs",
        "outputId": "7b4b9c3e-16c2-4e25-c1f9-0b78b66f2395"
      },
      "execution_count": null,
      "outputs": [
        {
          "output_type": "stream",
          "name": "stdout",
          "text": [
            "+--------------+--------+-------+\n",
            "| CustomerID   | Name   |   Age |\n",
            "|--------------+--------+-------|\n",
            "| C003         | Park   |    21 |\n",
            "| C005         | LEE    |    45 |\n",
            "+--------------+--------+-------+\n",
            "+--------------+----------------+-------+---------+-----------+----------+\n",
            "| CustomerID   | CustomerName   |   AGE | Grade   | Job       |   Points |\n",
            "|--------------+----------------+-------+---------+-----------+----------|\n",
            "| C003         | Park           |    21 | VIP     | Developer |     2400 |\n",
            "| C004         | Kim            |    25 | VIP     | Doctor    |      960 |\n",
            "| C005         | LEE            |    45 | Gold    | Engineer  |     3600 |\n",
            "+--------------+----------------+-------+---------+-----------+----------+\n",
            "+--------------+----------------+-------+---------+-----------+----------+\n",
            "| CustomerID   | CustomerName   |   AGE | Grade   | Job       |   Points |\n",
            "|--------------+----------------+-------+---------+-----------+----------|\n",
            "| C003         | Park           |    21 | VIP     | Developer |     2400 |\n",
            "| C005         | LEE            |    45 | Gold    | Engineer  |     3600 |\n",
            "+--------------+----------------+-------+---------+-----------+----------+\n"
          ]
        }
      ]
    },
    {
      "cell_type": "code",
      "source": [
        "# SELECT STATEMENT\n",
        "# Searching with LIKE\n",
        "\n",
        "# %: 문자 0개 이상 매칭\n",
        "# _: 정확히 문자 1개 매칭\n",
        "\n",
        "# Example-21\n",
        "# names, ages, grades, points를 가져옴\n",
        "# 단, 이름이 A 또는 B로 시작해야함\n",
        "\n",
        "select_query = \"\"\"\n",
        " SELECT CustomerName AS Name, Age, Grade, Points\n",
        " FROM Customer\n",
        " WHERE CustomerName LIKE 'A%' OR CustomerName LIKE 'B__'\n",
        "\"\"\"\n",
        "\n",
        "cursor.execute(select_query)\n",
        "rows = cursor.fetchall()\n",
        "\n",
        "columns = [desc[0] for desc in cursor.description]\n",
        "\n",
        "print(tabulate(rows, headers=columns, tablefmt='psql'))"
      ],
      "metadata": {
        "colab": {
          "base_uri": "https://localhost:8080/"
        },
        "id": "N_wNYdxLvnHi",
        "outputId": "b59515e8-b27a-49dd-82e0-cf903cea57b5"
      },
      "execution_count": null,
      "outputs": [
        {
          "output_type": "stream",
          "name": "stdout",
          "text": [
            "+--------+-------+---------+----------+\n",
            "| Name   |   Age | Grade   |   Points |\n",
            "|--------+-------+---------+----------|\n",
            "| Alice  |    30 | Silver  |     1200 |\n",
            "| Bob    |    28 | Silver  |        0 |\n",
            "+--------+-------+---------+----------+\n"
          ]
        }
      ]
    },
    {
      "cell_type": "code",
      "source": [
        "# Example-22\n",
        "# CustomerName, Age, Grade를 찾음\n",
        "# 단, 3글자로 구성되어야함\n",
        "\n",
        "select_query = \"\"\"\n",
        " SELECT CustomerName, Age, Grade\n",
        " FROM Customer\n",
        " WHERE CustomerName LIKE '___'\n",
        "\"\"\"\n",
        "cursor.execute(select_query)\n",
        "rows = cursor.fetchall()\n",
        "\n",
        "columns = [desc[0] for desc in cursor.description]\n",
        "\n",
        "print(tabulate(rows, headers=columns, tablefmt='psql'))"
      ],
      "metadata": {
        "colab": {
          "base_uri": "https://localhost:8080/"
        },
        "id": "s6eg64abxWq9",
        "outputId": "2a43f3fc-dfa9-4151-fd88-298468e01b1a"
      },
      "execution_count": null,
      "outputs": [
        {
          "output_type": "stream",
          "name": "stdout",
          "text": [
            "+----------------+-------+---------+\n",
            "| CustomerName   |   Age | Grade   |\n",
            "|----------------+-------+---------|\n",
            "| Bob            |    28 | Silver  |\n",
            "| Kim            |    25 | VIP     |\n",
            "| LEE            |    45 | Gold    |\n",
            "+----------------+-------+---------+\n"
          ]
        }
      ]
    },
    {
      "cell_type": "code",
      "source": [
        "# Example-23\n",
        "# Searching with Null Condition\n",
        "# IS NULL, IS NOT NULL\n",
        "\n",
        "# 1. Age가 NULL인 것 찾기\n",
        "# 2. Age가 NULL 아닌 것 찾기\n",
        "\n",
        "select_query = \"\"\"\n",
        " SELECT CustomerName\n",
        " FROM Customer\n",
        " WHERE Age IS NULL;\n",
        "\"\"\"\n",
        "\n",
        "cursor.execute(select_query)\n",
        "rows = cursor.fetchall()\n",
        "\n",
        "columns = [desc[0] for desc in cursor.description]\n",
        "\n",
        "print(tabulate(rows, headers=columns, tablefmt='psql'))\n",
        "\n",
        "select_query = \"\"\"\n",
        " SELECT CustomerName\n",
        " FROM Customer\n",
        " WHERE Age IS NOT NULL;\n",
        "\"\"\"\n",
        "cursor.execute(select_query)\n",
        "rows = cursor.fetchall()\n",
        "\n",
        "columns = [desc[0] for desc in cursor.description]\n",
        "\n",
        "print(tabulate(rows, headers=columns, tablefmt='psql'))\n"
      ],
      "metadata": {
        "colab": {
          "base_uri": "https://localhost:8080/"
        },
        "id": "j4BusbUDZRSi",
        "outputId": "aaf60aad-9638-4a21-f9bd-1bfa3205714e"
      },
      "execution_count": null,
      "outputs": [
        {
          "output_type": "stream",
          "name": "stdout",
          "text": [
            "+----------------+\n",
            "| CustomerName   |\n",
            "|----------------|\n",
            "+----------------+\n",
            "+----------------+\n",
            "| CustomerName   |\n",
            "|----------------|\n",
            "| Alice          |\n",
            "| Bob            |\n",
            "| Park           |\n",
            "| Kim            |\n",
            "| LEE            |\n",
            "+----------------+\n"
          ]
        }
      ]
    },
    {
      "cell_type": "code",
      "source": [
        "# Sorting Search Results\n",
        "# ORDER BY ASC, DESC\n",
        "# ASC: NULL은 제일 뒤에 나타남\n",
        "# DESC: NULL은 제일 앞에 나타남\n",
        "# 여러 column 기준으로 정렬할 때 두 행이 같은 값이면 첫 번째 column이 먼저 기준됨.\n",
        "\n",
        "# Example-24: Sorting Search Results\n",
        "# Age를 내림차순 정렬해서 Name, Grade, Age 가져오기\n",
        "\n",
        "# 1. Name, Grade, Age를 가져오는데 Age를 내림차순으로 정렬해서 가져오기\n",
        "\n",
        "select_query = \"\"\"\n",
        " SELECT CustomerName, Grade, Age\n",
        " FROM Customer\n",
        " ORDER BY Age DESC\n",
        "\"\"\"\n",
        "\n",
        "cursor.execute(select_query)\n",
        "rows = cursor.fetchall()\n",
        "\n",
        "columns = [desc[0] for desc in cursor.description]\n",
        "\n",
        "print(tabulate(rows, headers=columns, tablefmt='psql'))\n",
        "\n",
        "# 2. Age를 내림차순으로 가져오고 동일 나이 있으면 Points를 내림차순으로 가져오기\n",
        "# + Points가 2000 이상인거 가져오기\n",
        "\n",
        "select_query = \"\"\"\n",
        " SELECT *\n",
        " FROM Customer\n",
        " WHERE Points >= 2000\n",
        " ORDER BY Age ASC, Points DESC;\n",
        "\"\"\"\n",
        "\n",
        "cursor.execute(select_query)\n",
        "rows = cursor.fetchall()\n",
        "\n",
        "columns = [desc[0] for desc in cursor.description]\n",
        "\n",
        "print(tabulate(rows, headers=columns, tablefmt='psql'))\n"
      ],
      "metadata": {
        "colab": {
          "base_uri": "https://localhost:8080/"
        },
        "id": "MiPOTFqKcqgY",
        "outputId": "eae2880b-8b5e-4794-d06a-819583d0b1ca"
      },
      "execution_count": null,
      "outputs": [
        {
          "output_type": "stream",
          "name": "stdout",
          "text": [
            "+----------------+---------+-------+\n",
            "| CustomerName   | Grade   |   Age |\n",
            "|----------------+---------+-------|\n",
            "| LEE            | Gold    |    45 |\n",
            "| Alice          | Silver  |    30 |\n",
            "| Bob            | Silver  |    28 |\n",
            "| Kim            | VIP     |    25 |\n",
            "| Park           | VIP     |    21 |\n",
            "+----------------+---------+-------+\n",
            "+--------------+----------------+-------+---------+-----------+----------+\n",
            "| CustomerID   | CustomerName   |   AGE | Grade   | Job       |   Points |\n",
            "|--------------+----------------+-------+---------+-----------+----------|\n",
            "| C003         | Park           |    21 | VIP     | Developer |     2400 |\n",
            "| C005         | LEE            |    45 | Gold    | Engineer  |     3600 |\n",
            "+--------------+----------------+-------+---------+-----------+----------+\n"
          ]
        }
      ]
    },
    {
      "cell_type": "code",
      "source": [
        "delete_query = \"\"\"\n",
        " DELETE\n",
        " FROM Customer\n",
        " WHERE CustomerID='C006'\n",
        "\"\"\"\n",
        "\n",
        "cursor.execute(delete_query)"
      ],
      "metadata": {
        "id": "Q8ioxl2JigiP"
      },
      "execution_count": null,
      "outputs": []
    },
    {
      "cell_type": "code",
      "source": [
        "# Example-25\n",
        "# 1. 21살이고 3000점 points를 가지는 Yoon이라는 사람 새롭게 넣기\n",
        "\n",
        "# 2. Points가 2000 이상인 customer를 가져오고, Age를 오름차순으로 가져오고, Points를 내림차순으로 정렬\n",
        "\n",
        "insert_query = \"\"\"\n",
        " INSERT\n",
        " INTO Customer (CustomerID, CustomerName, Age, Grade, Job, Points)\n",
        " VALUES (%s, %s, %s, %s, %s, %s)\n",
        "\"\"\"\n",
        "\n",
        "values = ('C006', 'Yoon', 21, 'Silver', 'Engineer', 3000)\n",
        "\n",
        "cursor.execute(insert_query, values)\n",
        "\n",
        "select_query = \"\"\"\n",
        " SELECT *\n",
        " FROM Customer\n",
        " WHERE Points >= 2000\n",
        " ORDER BY Age ASC, Points DESC\n",
        "\"\"\"\n",
        "\n",
        "cursor.execute(select_query)\n",
        "\n",
        "rows = cursor.fetchall()\n",
        "\n",
        "columns = [desc[0] for desc in cursor.description]\n",
        "\n",
        "print(tabulate(rows, headers=columns, tablefmt='psql'))\n"
      ],
      "metadata": {
        "colab": {
          "base_uri": "https://localhost:8080/"
        },
        "id": "BzrkkUxWfx9T",
        "outputId": "0c3dbd13-5d89-40b5-d05e-225e6a4b6b0f"
      },
      "execution_count": null,
      "outputs": [
        {
          "output_type": "stream",
          "name": "stdout",
          "text": [
            "+--------------+----------------+-------+---------+-----------+----------+\n",
            "| CustomerID   | CustomerName   |   AGE | Grade   | Job       |   Points |\n",
            "|--------------+----------------+-------+---------+-----------+----------|\n",
            "| C006         | Yoon           |    21 | Silver  | Engineer  |     3000 |\n",
            "| C003         | Park           |    21 | VIP     | Developer |     2400 |\n",
            "| C005         | LEE            |    45 | Gold    | Engineer  |     3600 |\n",
            "+--------------+----------------+-------+---------+-----------+----------+\n"
          ]
        }
      ]
    },
    {
      "cell_type": "code",
      "source": [
        "select_query = \"\"\"\n",
        " SELECT *\n",
        " FROM Customer\n",
        " WHERE Points >= 2000\n",
        " ORDER BY Age ASC, Points DESC\n",
        "\"\"\"\n",
        "\n",
        "cursor.execute(select_query)\n",
        "rows = cursor.fetchall()\n",
        "columns = [desc[0] for desc in cursor.description]\n",
        "print(tabulate(rows, headers=columns, tablefmt='psql'))"
      ],
      "metadata": {
        "colab": {
          "base_uri": "https://localhost:8080/"
        },
        "id": "4QTOGh7SgrdX",
        "outputId": "4855bba2-bfb4-4099-95f5-de788ec179d5"
      },
      "execution_count": null,
      "outputs": [
        {
          "output_type": "stream",
          "name": "stdout",
          "text": [
            "+--------------+----------------+-------+---------+-----------+----------+\n",
            "| CustomerID   | CustomerName   |   AGE | Grade   | Job       |   Points |\n",
            "|--------------+----------------+-------+---------+-----------+----------|\n",
            "| C006         | Yoon           |    21 | Silver  | Engineer  |     3000 |\n",
            "| C003         | Park           |    21 | VIP     | Developer |     2400 |\n",
            "| C005         | LEE            |    45 | Gold    | Engineer  |     3600 |\n",
            "+--------------+----------------+-------+---------+-----------+----------+\n"
          ]
        }
      ]
    },
    {
      "cell_type": "code",
      "source": [
        "# Searching with Aggregate Functions\n",
        "# COUNT, SUM, AVG, MAX, MIN\n",
        "\n",
        "# Example-26: Searching with Aggregate Functions\n",
        "# Customer Table의 AVG 가져오기\n",
        "\n",
        "# 1. Customer Table에서 AVG Points를 가져오기\n",
        "# 2. Customer Table에서 Job이 Engineer인 사람중 Points의 Total 구하기\n",
        "\n",
        "select_query = \"\"\"\n",
        " SELECT AVG(Points) AS 'AVG Points'\n",
        " FROM Customer\n",
        "\"\"\"\n",
        "\n",
        "cursor.execute(select_query)\n",
        "rows = cursor.fetchall()\n",
        "columns = [desc[0] for desc in cursor.description]\n",
        "print(tabulate(rows, headers=columns, tablefmt='psql'))\n",
        "\n",
        "select_query = \"\"\"\n",
        " SELECT SUM(Points) AS 'Total Points'\n",
        " FROM Customer\n",
        " WHERE Job = 'Engineer'\n",
        "\"\"\"\n",
        "\n",
        "cursor.execute(select_query)\n",
        "rows = cursor.fetchall()\n",
        "columns = [desc[0] for desc in cursor.description]\n",
        "print(tabulate(rows, headers=columns, tablefmt='psql'))"
      ],
      "metadata": {
        "colab": {
          "base_uri": "https://localhost:8080/"
        },
        "id": "7GneJu3ahXI_",
        "outputId": "3ee1e910-b168-4f99-a585-8a161aca183c"
      },
      "execution_count": null,
      "outputs": [
        {
          "output_type": "stream",
          "name": "stdout",
          "text": [
            "+--------------+\n",
            "|   AVG Points |\n",
            "|--------------|\n",
            "|         1860 |\n",
            "+--------------+\n",
            "+----------------+\n",
            "|   Total Points |\n",
            "|----------------|\n",
            "|           7800 |\n",
            "+----------------+\n"
          ]
        }
      ]
    },
    {
      "cell_type": "code",
      "source": [
        "delete_query = \"\"\"\n",
        " DELETE\n",
        " FROM Customer\n",
        " WHERE CustomerID='C007'\n",
        "\"\"\"\n",
        "\n",
        "cursor.execute(delete_query)"
      ],
      "metadata": {
        "id": "CxOkw3wZmxhr"
      },
      "execution_count": null,
      "outputs": []
    },
    {
      "cell_type": "code",
      "source": [
        "# Example-27\n",
        "# CustomerID, Age, *로 COUNT 해보기\n",
        "\n",
        "# 1. 새로운 행을 insert하는데 Age가 NULL인 값으로 넣기\n",
        "\n",
        "insert_query = \"\"\"\n",
        " INSERT\n",
        " INTO Customer (CustomerID, CustomerName, Age, Grade, Job, Points)\n",
        " VALUES (%s, %s, NULL, %s, %s, %s)\n",
        "\"\"\"\n",
        "\n",
        "values = ('C007', 'Park', 'Gold', 'Artist', 1200)\n",
        "\n",
        "cursor.execute(insert_query, values)\n",
        "\n",
        "quries = {\n",
        "    \"Count using CustomerID \": \"SELECT COUNT(CustomerID) AS 'Total Customers' FROM Customer;\",\n",
        "    \"Count using Age \": \"SELECT COUNT(Age) AS 'Customers with Age' FROM Customer;\",\n",
        "    \"Count using * \": \"SELECT COUNT(*) AS 'Total Rows' FROM Customer;\",\n",
        "}\n",
        "\n",
        "for title, row in quries.items():\n",
        "  print(f\"{title}\")\n",
        "  cursor.execute(row)\n",
        "  rows = cursor.fetchall()\n",
        "  columns = [desc[0] for desc in cursor.description]\n",
        "  print(tabulate(rows, headers=columns, tablefmt='psql'))\n",
        "\n"
      ],
      "metadata": {
        "colab": {
          "base_uri": "https://localhost:8080/"
        },
        "id": "3RUFqL9cjb4W",
        "outputId": "00d7fb83-2b46-411f-9836-1a38a0ce08e4"
      },
      "execution_count": null,
      "outputs": [
        {
          "output_type": "stream",
          "name": "stdout",
          "text": [
            "Count using CustomerID \n",
            "+-------------------+\n",
            "|   Total Customers |\n",
            "|-------------------|\n",
            "|                 7 |\n",
            "+-------------------+\n",
            "Count using Age \n",
            "+----------------------+\n",
            "|   Customers with Age |\n",
            "|----------------------|\n",
            "|                    6 |\n",
            "+----------------------+\n",
            "Count using * \n",
            "+--------------+\n",
            "|   Total Rows |\n",
            "|--------------|\n",
            "|            7 |\n",
            "+--------------+\n"
          ]
        }
      ]
    },
    {
      "cell_type": "code",
      "source": [
        "# quries = \"\"\"\n",
        "# \"Count using Customer ID\": \"{query}\" ...\n",
        "# \"\"\"\n",
        "\n",
        "\"\"\"\n",
        "for title, query in queies.items():\n",
        "  cursor.execute(query)\n",
        "  rows = cursor.fetchall()\n",
        "  columns = [desc[0] for desc in cursor.description]\n",
        "  print(f\"{title}\")\n",
        "  print(tabulate(rows, headers=columns, tablefmt='psql'))\n",
        "\"\"\"\n",
        "\n",
        "select_query = \"\"\"\n",
        " SELECT COUNT(CustomerID) AS 'Total Customers'\n",
        " FROM Customer\n",
        "\"\"\"\n",
        "\n",
        "cursor.execute(select_query)\n",
        "rows = cursor.fetchall()\n",
        "columns = [desc[0] for desc in cursor.description]\n",
        "print(tabulate(rows, headers=columns, tablefmt='psql'))\n",
        "\n",
        "select_query = \"\"\"\n",
        " SELECT COUNT(Age) AS 'Customer with Age'\n",
        " FROM Customer\n",
        "\"\"\"\n",
        "\n",
        "cursor.execute(select_query)\n",
        "rows = cursor.fetchall()\n",
        "columns = [desc[0] for desc in cursor.description]\n",
        "print(tabulate(rows, headers=columns, tablefmt='psql'))\n",
        "\n",
        "select_query = \"\"\"\n",
        " SELECT COUNT(*) AS 'Total Rows'\n",
        " FROM Customer\n",
        "\"\"\"\n",
        "\n",
        "cursor.execute(select_query)\n",
        "rows = cursor.fetchall()\n",
        "columns = [desc[0] for desc in cursor.description]\n",
        "print(tabulate(rows, headers=columns, tablefmt='psql'))"
      ],
      "metadata": {
        "colab": {
          "base_uri": "https://localhost:8080/"
        },
        "id": "oDODiB_Kkkt3",
        "outputId": "8003607b-febf-48f3-8008-ed30f527c6f0"
      },
      "execution_count": null,
      "outputs": [
        {
          "output_type": "stream",
          "name": "stdout",
          "text": [
            "+-------------------+\n",
            "|   Total Customers |\n",
            "|-------------------|\n",
            "|                 7 |\n",
            "+-------------------+\n",
            "+---------------------+\n",
            "|   Customer with Age |\n",
            "|---------------------|\n",
            "|                   6 |\n",
            "+---------------------+\n",
            "+--------------+\n",
            "|   Total Rows |\n",
            "|--------------|\n",
            "|            7 |\n",
            "+--------------+\n"
          ]
        }
      ]
    },
    {
      "cell_type": "code",
      "source": [
        "# Grouped Search\n",
        "# GROUP BY\n",
        "# SELECT [ALL | DISTINCT] column_list\n",
        "# FROM table_list\n",
        "# [WHERE condition]\n",
        "# [GROUP BY column_list [HAVING condition]]\n",
        "# [ORDER BY column_list [ASC | DESC]];\n",
        "\n",
        "# Example-28\n",
        "# Customer Table에서 GROUP BY를 통해 각 Job의 total Points를 가져오기 (SUM 사용)\n",
        "\n",
        "select_query = \"\"\"\n",
        " SELECT Job, SUM(POINTS) AS 'TotalPoints'\n",
        " FROM Customer\n",
        " GROUP BY Job\n",
        "\"\"\"\n",
        "\n",
        "cursor.execute(select_query)\n",
        "rows = cursor.fetchall()\n",
        "columns = [desc[0] for desc in cursor.description]\n",
        "print(tabulate(rows, headers=columns, tablefmt='psql'))"
      ],
      "metadata": {
        "colab": {
          "base_uri": "https://localhost:8080/"
        },
        "id": "neUbAf3oWlHA",
        "outputId": "1bef8509-78c2-4a9f-c8c4-ee60c4550039"
      },
      "execution_count": null,
      "outputs": [
        {
          "output_type": "stream",
          "name": "stdout",
          "text": [
            "+-----------+---------------+\n",
            "| Job       |   TotalPoints |\n",
            "|-----------+---------------|\n",
            "| Engineer  |          7800 |\n",
            "| Designer  |             0 |\n",
            "| Developer |          2400 |\n",
            "| Doctor    |           960 |\n",
            "| Artist    |          1200 |\n",
            "+-----------+---------------+\n"
          ]
        }
      ]
    },
    {
      "cell_type": "code",
      "source": [
        "# Example-29\n",
        "# Grade별로 Job의 수와, Points의 최대값 출력하게하기\n",
        "\n",
        "select_query = \"\"\"\n",
        " SELECT Grade, COUNT(DISTINCT Job) AS 'Number of Jobs', MAX(DISTINCT Points) AS 'Max Point'\n",
        " FROM Customer\n",
        " GROUP BY Grade\n",
        "\"\"\"\n",
        "\n",
        "cursor.execute(select_query)\n",
        "rows = cursor.fetchall()\n",
        "columns = [desc[0] for desc in cursor.description]\n",
        "print(tabulate(rows, headers=columns, tablefmt='psql'))"
      ],
      "metadata": {
        "colab": {
          "base_uri": "https://localhost:8080/"
        },
        "id": "HAIlOk8OXamI",
        "outputId": "eaeb6296-83b4-44b5-e482-958b096a8d13"
      },
      "execution_count": null,
      "outputs": [
        {
          "output_type": "stream",
          "name": "stdout",
          "text": [
            "+---------+------------------+-------------+\n",
            "| Grade   |   Number of Jobs |   Max Point |\n",
            "|---------+------------------+-------------|\n",
            "| Gold    |                2 |        3600 |\n",
            "| Silver  |                2 |        3000 |\n",
            "| VIP     |                2 |        2400 |\n",
            "+---------+------------------+-------------+\n"
          ]
        }
      ]
    },
    {
      "cell_type": "code",
      "source": [
        "# Example-30: Join Queries for Multiple Tables\n",
        "# Grade_Info Table을 만들어서 Job이 Engineer, discount rate를 Join하기\n",
        "\n",
        "# Step 1) Table 생성\n",
        "cursor = conn.cursor()\n",
        "# cursor.execute(\"\"\"\n",
        "#  CREATE TABLE IF NOT EXISTS Grade_Info(\n",
        "#   Grade VARCHAR(10) PRIMARY KEY,\n",
        "#   DiscountRate INT\n",
        "#  )\n",
        "# \"\"\")\n",
        "\n",
        "# Step 2) 값 Insert\n",
        "# cursor.executemany(\"\"\"\n",
        "#  INSERT INTO Grade_Info (Grade, DiscountRate) VALUES (%s, %s)\n",
        "# \"\"\", [('Silver', 10), ('Gold', 20), ('VIP', 30)]\n",
        "# )\n",
        "\n",
        "# Step 3) 외래키 등록\n",
        "# cursor.execute(\"\"\"\n",
        "#  ALTER TABLE Customer\n",
        "#  ADD CONSTRAINT fk_customer_grade\n",
        "#  FOREIGN KEY (Grade)\n",
        "#  REFERENCES Grade_Info(Grade);\n",
        "# \"\"\"\n",
        "# )\n",
        "\n",
        "conn.commit()\n",
        "\n",
        "# Step 4) JOIN을 통한 테이블 조회\n",
        "select_query = \"\"\"\n",
        " SELECT *\n",
        " FROM Customer\n",
        " JOIN Grade_Info\n",
        " ON Customer.Grade = Grade_Info.Grade\n",
        " WHERE Customer.Job = 'Engineer';\n",
        "\"\"\"\n",
        "\n",
        "cursor.execute(select_query)\n",
        "rows = cursor.fetchall()\n",
        "columns = [desc[0] for desc in cursor.description]\n",
        "print(tabulate(rows, headers=columns, tablefmt='psql'))"
      ],
      "metadata": {
        "colab": {
          "base_uri": "https://localhost:8080/"
        },
        "id": "vJp7ocKFYHdf",
        "outputId": "d902d56e-f680-4aa9-eb15-dffe9f578af9"
      },
      "execution_count": null,
      "outputs": [
        {
          "output_type": "stream",
          "name": "stdout",
          "text": [
            "+--------------+----------------+-------+---------+----------+----------+---------+----------------+\n",
            "| CustomerID   | CustomerName   |   AGE | Grade   | Job      |   Points | Grade   |   DiscountRate |\n",
            "|--------------+----------------+-------+---------+----------+----------+---------+----------------|\n",
            "| C001         | Alice          |    30 | Silver  | Engineer |     1200 | Silver  |             10 |\n",
            "| C005         | LEE            |    45 | Gold    | Engineer |     3600 | Gold    |             20 |\n",
            "| C006         | Yoon           |    21 | Silver  | Engineer |     3000 | Silver  |             10 |\n",
            "+--------------+----------------+-------+---------+----------+----------+---------+----------------+\n"
          ]
        }
      ]
    }
  ]
}